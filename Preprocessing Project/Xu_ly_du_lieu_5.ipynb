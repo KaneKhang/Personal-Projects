{
 "cells": [
  {
   "cell_type": "code",
   "execution_count": 71,
   "id": "4bd9ad9c",
   "metadata": {},
   "outputs": [],
   "source": [
    "import pandas as pd\n",
    "import numpy as np\n",
    "import statistics as st\n",
    "from datetime import datetime as dt\n",
    "import os"
   ]
  },
  {
   "cell_type": "code",
   "execution_count": 72,
   "id": "356212a9",
   "metadata": {},
   "outputs": [],
   "source": [
    "folder_path = './Downloads/data_football'"
   ]
  },
  {
   "cell_type": "code",
   "execution_count": 73,
   "id": "5750a92f",
   "metadata": {},
   "outputs": [],
   "source": [
    "all_files = []\n",
    "for x in os.listdir(folder_path):\n",
    "    if x.endswith('.csv'):\n",
    "        all_files.append(x)"
   ]
  },
  {
   "cell_type": "code",
   "execution_count": 74,
   "id": "357f63f4",
   "metadata": {},
   "outputs": [
    {
     "data": {
      "text/plain": [
       "['pl_15-16.csv',\n",
       " 'pl_16-17.csv',\n",
       " 'pl_17-18.csv',\n",
       " 'pl_18-19.csv',\n",
       " 'pl_19-20.csv']"
      ]
     },
     "execution_count": 74,
     "metadata": {},
     "output_type": "execute_result"
    }
   ],
   "source": [
    "all_files"
   ]
  },
  {
   "cell_type": "code",
   "execution_count": 75,
   "id": "08c9488b",
   "metadata": {},
   "outputs": [],
   "source": [
    "for filename in all_files:\n",
    "    df = pd.read_csv(filename, index_col=None, header=0)\n",
    "    li.append(df)\n",
    "\n",
    "df = pd.concat(li, axis=0, ignore_index=True)"
   ]
  },
  {
   "cell_type": "code",
   "execution_count": 77,
   "id": "0a021a9f",
   "metadata": {},
   "outputs": [
    {
     "data": {
      "text/plain": [
       "Index(['Unnamed: 0', 'Name', 'Position', 'Appearances', 'Clean sheets',\n",
       "       'Goals conceded', 'Tackles', 'Tackle success %', 'Last man tackles',\n",
       "       'Blocked shots', 'Interceptions', 'Clearances', 'Headed Clearance',\n",
       "       'Clearances off line', 'Recoveries', 'Duels won', 'Duels lost',\n",
       "       'Successful 50/50s', 'Aerial battles won', 'Aerial battles lost',\n",
       "       'Own goals', 'Errors leading to goal', 'Assists', 'Passes',\n",
       "       'Passes per match', 'Big chances created', 'Crosses',\n",
       "       'Cross accuracy %', 'Through balls', 'Accurate long balls',\n",
       "       'Yellow cards', 'Red cards', 'Fouls', 'Offsides', 'Goals',\n",
       "       'Headed goals', 'Goals with right foot', 'Goals with left foot',\n",
       "       'Hit woodwork', 'Goals per match', 'Penalties scored',\n",
       "       'Freekicks scored', 'Shots', 'Shots on target', 'Shooting accuracy %',\n",
       "       'Big chances missed', 'Saves', 'Penalties saved', 'Punches',\n",
       "       'High Claims', 'Catches', 'Sweeper clearances', 'Throw outs',\n",
       "       'Goal Kicks'],\n",
       "      dtype='object')"
      ]
     },
     "execution_count": 77,
     "metadata": {},
     "output_type": "execute_result"
    }
   ],
   "source": [
    "df.columns"
   ]
  },
  {
   "cell_type": "code",
   "execution_count": 78,
   "id": "2b8ebd0e",
   "metadata": {},
   "outputs": [],
   "source": [
    "df.drop(['Unnamed: 0'], axis =1, inplace = True)"
   ]
  },
  {
   "cell_type": "code",
   "execution_count": 80,
   "id": "8a8ec61a",
   "metadata": {},
   "outputs": [
    {
     "name": "stdout",
     "output_type": "stream",
     "text": [
      "<class 'pandas.core.frame.DataFrame'>\n",
      "RangeIndex: 12741 entries, 0 to 12740\n",
      "Data columns (total 53 columns):\n",
      " #   Column                  Non-Null Count  Dtype  \n",
      "---  ------                  --------------  -----  \n",
      " 0   Name                    12741 non-null  object \n",
      " 1   Position                12741 non-null  object \n",
      " 2   Appearances             12741 non-null  int64  \n",
      " 3   Clean sheets            5472 non-null   float64\n",
      " 4   Goals conceded          5472 non-null   float64\n",
      " 5   Tackles                 11304 non-null  float64\n",
      " 6   Tackle success %        8649 non-null   object \n",
      " 7   Last man tackles        4035 non-null   float64\n",
      " 8   Blocked shots           11304 non-null  float64\n",
      " 9   Interceptions           11304 non-null  float64\n",
      " 10  Clearances              11304 non-null  float64\n",
      " 11  Headed Clearance        11304 non-null  float64\n",
      " 12  Clearances off line     4035 non-null   float64\n",
      " 13  Recoveries              8649 non-null   float64\n",
      " 14  Duels won               8649 non-null   float64\n",
      " 15  Duels lost              8649 non-null   float64\n",
      " 16  Successful 50/50s       8649 non-null   float64\n",
      " 17  Aerial battles won      8649 non-null   float64\n",
      " 18  Aerial battles lost     8649 non-null   float64\n",
      " 19  Own goals               5472 non-null   float64\n",
      " 20  Errors leading to goal  10086 non-null  float64\n",
      " 21  Assists                 12741 non-null  int64  \n",
      " 22  Passes                  12741 non-null  object \n",
      " 23  Passes per match        12741 non-null  float64\n",
      " 24  Big chances created     11304 non-null  float64\n",
      " 25  Crosses                 11304 non-null  float64\n",
      " 26  Cross accuracy %        8649 non-null   object \n",
      " 27  Through balls           8649 non-null   float64\n",
      " 28  Accurate long balls     10086 non-null  float64\n",
      " 29  Yellow cards            12741 non-null  int64  \n",
      " 30  Red cards               12741 non-null  int64  \n",
      " 31  Fouls                   12741 non-null  int64  \n",
      " 32  Offsides                11304 non-null  float64\n",
      " 33  Goals                   12741 non-null  int64  \n",
      " 34  Headed goals            11304 non-null  float64\n",
      " 35  Goals with right foot   11304 non-null  float64\n",
      " 36  Goals with left foot    11304 non-null  float64\n",
      " 37  Hit woodwork            11304 non-null  float64\n",
      " 38  Goals per match         7269 non-null   float64\n",
      " 39  Penalties scored        7269 non-null   float64\n",
      " 40  Freekicks scored        7269 non-null   float64\n",
      " 41  Shots                   7269 non-null   float64\n",
      " 42  Shots on target         7269 non-null   float64\n",
      " 43  Shooting accuracy %     7269 non-null   object \n",
      " 44  Big chances missed      7269 non-null   float64\n",
      " 45  Saves                   1437 non-null   float64\n",
      " 46  Penalties saved         1437 non-null   float64\n",
      " 47  Punches                 1437 non-null   float64\n",
      " 48  High Claims             1437 non-null   float64\n",
      " 49  Catches                 1437 non-null   float64\n",
      " 50  Sweeper clearances      1437 non-null   float64\n",
      " 51  Throw outs              1437 non-null   float64\n",
      " 52  Goal Kicks              1437 non-null   float64\n",
      "dtypes: float64(41), int64(6), object(6)\n",
      "memory usage: 5.2+ MB\n"
     ]
    }
   ],
   "source": [
    "df.info()"
   ]
  },
  {
   "cell_type": "code",
   "execution_count": null,
   "id": "85dd0fba",
   "metadata": {},
   "outputs": [],
   "source": []
  },
  {
   "cell_type": "code",
   "execution_count": null,
   "id": "f68baf12",
   "metadata": {},
   "outputs": [],
   "source": []
  },
  {
   "cell_type": "code",
   "execution_count": null,
   "id": "5b6a69ef",
   "metadata": {},
   "outputs": [],
   "source": []
  },
  {
   "cell_type": "code",
   "execution_count": null,
   "id": "6fef0eec",
   "metadata": {},
   "outputs": [],
   "source": []
  },
  {
   "cell_type": "code",
   "execution_count": null,
   "id": "86ea8958",
   "metadata": {},
   "outputs": [],
   "source": []
  },
  {
   "cell_type": "code",
   "execution_count": null,
   "id": "b689c647",
   "metadata": {},
   "outputs": [],
   "source": []
  },
  {
   "cell_type": "code",
   "execution_count": null,
   "id": "d576ff2c",
   "metadata": {},
   "outputs": [],
   "source": []
  },
  {
   "cell_type": "code",
   "execution_count": null,
   "id": "6add5e52",
   "metadata": {},
   "outputs": [],
   "source": []
  },
  {
   "cell_type": "code",
   "execution_count": null,
   "id": "e2380610",
   "metadata": {},
   "outputs": [],
   "source": []
  },
  {
   "cell_type": "code",
   "execution_count": null,
   "id": "443ea884",
   "metadata": {},
   "outputs": [],
   "source": []
  },
  {
   "cell_type": "code",
   "execution_count": null,
   "id": "f4fb1a98",
   "metadata": {},
   "outputs": [],
   "source": []
  },
  {
   "cell_type": "code",
   "execution_count": null,
   "id": "62fe2b5e",
   "metadata": {},
   "outputs": [],
   "source": []
  },
  {
   "cell_type": "code",
   "execution_count": null,
   "id": "5578fcf8",
   "metadata": {},
   "outputs": [],
   "source": []
  },
  {
   "cell_type": "code",
   "execution_count": null,
   "id": "66e80961",
   "metadata": {},
   "outputs": [],
   "source": []
  }
 ],
 "metadata": {
  "kernelspec": {
   "display_name": "Python 3 (ipykernel)",
   "language": "python",
   "name": "python3"
  },
  "language_info": {
   "codemirror_mode": {
    "name": "ipython",
    "version": 3
   },
   "file_extension": ".py",
   "mimetype": "text/x-python",
   "name": "python",
   "nbconvert_exporter": "python",
   "pygments_lexer": "ipython3",
   "version": "3.11.4"
  }
 },
 "nbformat": 4,
 "nbformat_minor": 5
}
