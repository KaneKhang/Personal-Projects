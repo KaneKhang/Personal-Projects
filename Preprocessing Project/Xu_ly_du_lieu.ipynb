{
 "cells": [
  {
   "cell_type": "code",
   "execution_count": 1,
   "id": "ed3f24eb-aab3-4100-9d1c-96feb8389dd7",
   "metadata": {},
   "outputs": [],
   "source": [
    "import pandas as pd\n",
    "import matplotlib.pyplot as plt\n",
    "import seaborn as sns"
   ]
  },
  {
   "cell_type": "code",
   "execution_count": 2,
   "id": "63d5bf43-08fb-4cae-abeb-1dd34f2e8b8f",
   "metadata": {},
   "outputs": [],
   "source": [
    "df = pd.read_excel('messy.xlsx', sheet_name = 'test')"
   ]
  },
  {
   "cell_type": "code",
   "execution_count": 4,
   "id": "c0fb9ad3-63b0-4a00-b92a-9d3464d990f3",
   "metadata": {},
   "outputs": [
    {
     "name": "stdout",
     "output_type": "stream",
     "text": [
      "<class 'pandas.core.frame.DataFrame'>\n",
      "RangeIndex: 100 entries, 0 to 99\n",
      "Data columns (total 5 columns):\n",
      " #   Column        Non-Null Count  Dtype  \n",
      "---  ------        --------------  -----  \n",
      " 0   CUst ID       100 non-null    int64  \n",
      " 1     JOIN% DATE  100 non-null    object \n",
      " 2   Unnamed: 2    0 non-null      float64\n",
      " 3   mobiles       100 non-null    int64  \n",
      " 4     FLL NAM     100 non-null    object \n",
      "dtypes: float64(1), int64(2), object(2)\n",
      "memory usage: 4.0+ KB\n"
     ]
    }
   ],
   "source": [
    "df.info()"
   ]
  },
  {
   "cell_type": "code",
   "execution_count": 10,
   "id": "11c49ca6-750c-4e4f-bc4c-5fc6dc19fdf2",
   "metadata": {},
   "outputs": [
    {
     "data": {
      "text/html": [
       "<div>\n",
       "<style scoped>\n",
       "    .dataframe tbody tr th:only-of-type {\n",
       "        vertical-align: middle;\n",
       "    }\n",
       "\n",
       "    .dataframe tbody tr th {\n",
       "        vertical-align: top;\n",
       "    }\n",
       "\n",
       "    .dataframe thead th {\n",
       "        text-align: right;\n",
       "    }\n",
       "</style>\n",
       "<table border=\"1\" class=\"dataframe\">\n",
       "  <thead>\n",
       "    <tr style=\"text-align: right;\">\n",
       "      <th></th>\n",
       "      <th>CUst ID</th>\n",
       "      <th>JOIN% DATE</th>\n",
       "      <th>Unnamed: 2</th>\n",
       "      <th>mobiles</th>\n",
       "      <th>FLL NAM</th>\n",
       "    </tr>\n",
       "  </thead>\n",
       "  <tbody>\n",
       "    <tr>\n",
       "      <th>0</th>\n",
       "      <td>1</td>\n",
       "      <td>08/07/19</td>\n",
       "      <td>NaN</td>\n",
       "      <td>84333605993</td>\n",
       "      <td>mIChAel mIcHALek</td>\n",
       "    </tr>\n",
       "    <tr>\n",
       "      <th>1</th>\n",
       "      <td>2</td>\n",
       "      <td>09/10/18</td>\n",
       "      <td>NaN</td>\n",
       "      <td>973444062</td>\n",
       "      <td>Andrew Jimenez</td>\n",
       "    </tr>\n",
       "    <tr>\n",
       "      <th>2</th>\n",
       "      <td>3</td>\n",
       "      <td>20190630</td>\n",
       "      <td>NaN</td>\n",
       "      <td>338262954</td>\n",
       "      <td>Ann Gow</td>\n",
       "    </tr>\n",
       "    <tr>\n",
       "      <th>3</th>\n",
       "      <td>4</td>\n",
       "      <td>2019-09-06 00:00:1567702800</td>\n",
       "      <td>NaN</td>\n",
       "      <td>84966068026</td>\n",
       "      <td>James Chen</td>\n",
       "    </tr>\n",
       "    <tr>\n",
       "      <th>4</th>\n",
       "      <td>5</td>\n",
       "      <td>20170812</td>\n",
       "      <td>NaN</td>\n",
       "      <td>84767065885</td>\n",
       "      <td>Dollie Martinez</td>\n",
       "    </tr>\n",
       "  </tbody>\n",
       "</table>\n",
       "</div>"
      ],
      "text/plain": [
       "   CUst ID                   JOIN% DATE  Unnamed: 2      mobiles  \\\n",
       "0        1                     08/07/19         NaN  84333605993   \n",
       "1        2                     09/10/18         NaN    973444062   \n",
       "2        3                     20190630         NaN    338262954   \n",
       "3        4  2019-09-06 00:00:1567702800         NaN  84966068026   \n",
       "4        5                     20170812         NaN  84767065885   \n",
       "\n",
       "            FLL NAM  \n",
       "0  mIChAel mIcHALek  \n",
       "1    Andrew Jimenez  \n",
       "2           Ann Gow  \n",
       "3        James Chen  \n",
       "4   Dollie Martinez  "
      ]
     },
     "execution_count": 10,
     "metadata": {},
     "output_type": "execute_result"
    }
   ],
   "source": [
    "df.head()"
   ]
  },
  {
   "cell_type": "code",
   "execution_count": 11,
   "id": "80584acf-b4f5-4f7a-bbfd-cde0b44c9d31",
   "metadata": {},
   "outputs": [
    {
     "data": {
      "text/plain": [
       "CUst ID          90\n",
       "  JOIN% DATE     98\n",
       "Unnamed: 2        0\n",
       "mobiles         100\n",
       "  FLL NAM       100\n",
       "dtype: int64"
      ]
     },
     "execution_count": 11,
     "metadata": {},
     "output_type": "execute_result"
    }
   ],
   "source": [
    "df.nunique()"
   ]
  },
  {
   "cell_type": "code",
   "execution_count": 3,
   "id": "b6697f81-57de-437d-a0af-30e7122960ab",
   "metadata": {},
   "outputs": [
    {
     "data": {
      "text/html": [
       "<div>\n",
       "<style scoped>\n",
       "    .dataframe tbody tr th:only-of-type {\n",
       "        vertical-align: middle;\n",
       "    }\n",
       "\n",
       "    .dataframe tbody tr th {\n",
       "        vertical-align: top;\n",
       "    }\n",
       "\n",
       "    .dataframe thead th {\n",
       "        text-align: right;\n",
       "    }\n",
       "</style>\n",
       "<table border=\"1\" class=\"dataframe\">\n",
       "  <thead>\n",
       "    <tr style=\"text-align: right;\">\n",
       "      <th></th>\n",
       "      <th>CUst ID</th>\n",
       "      <th>JOIN% DATE</th>\n",
       "      <th>mobiles</th>\n",
       "      <th>FLL NAM</th>\n",
       "    </tr>\n",
       "  </thead>\n",
       "  <tbody>\n",
       "    <tr>\n",
       "      <th>0</th>\n",
       "      <td>1</td>\n",
       "      <td>08/07/19</td>\n",
       "      <td>84333605993</td>\n",
       "      <td>mIChAel mIcHALek</td>\n",
       "    </tr>\n",
       "    <tr>\n",
       "      <th>1</th>\n",
       "      <td>2</td>\n",
       "      <td>09/10/18</td>\n",
       "      <td>973444062</td>\n",
       "      <td>Andrew Jimenez</td>\n",
       "    </tr>\n",
       "    <tr>\n",
       "      <th>2</th>\n",
       "      <td>3</td>\n",
       "      <td>20190630</td>\n",
       "      <td>338262954</td>\n",
       "      <td>Ann Gow</td>\n",
       "    </tr>\n",
       "    <tr>\n",
       "      <th>3</th>\n",
       "      <td>4</td>\n",
       "      <td>2019-09-06 00:00:1567702800</td>\n",
       "      <td>84966068026</td>\n",
       "      <td>James Chen</td>\n",
       "    </tr>\n",
       "    <tr>\n",
       "      <th>4</th>\n",
       "      <td>5</td>\n",
       "      <td>20170812</td>\n",
       "      <td>84767065885</td>\n",
       "      <td>Dollie Martinez</td>\n",
       "    </tr>\n",
       "  </tbody>\n",
       "</table>\n",
       "</div>"
      ],
      "text/plain": [
       "   CUst ID                   JOIN% DATE      mobiles           FLL NAM\n",
       "0        1                     08/07/19  84333605993  mIChAel mIcHALek\n",
       "1        2                     09/10/18    973444062    Andrew Jimenez\n",
       "2        3                     20190630    338262954           Ann Gow\n",
       "3        4  2019-09-06 00:00:1567702800  84966068026        James Chen\n",
       "4        5                     20170812  84767065885   Dollie Martinez"
      ]
     },
     "execution_count": 3,
     "metadata": {},
     "output_type": "execute_result"
    }
   ],
   "source": [
    "df.drop(['Unnamed: 2'], axis = 1, inplace = True)\n",
    "df.head()"
   ]
  },
  {
   "cell_type": "code",
   "execution_count": 4,
   "id": "e44070c6",
   "metadata": {},
   "outputs": [],
   "source": [
    "df.columns = ['Cust_id','Join_date','Mobiles','Full_name']"
   ]
  },
  {
   "cell_type": "code",
   "execution_count": 5,
   "id": "13c77e68",
   "metadata": {},
   "outputs": [
    {
     "data": {
      "text/html": [
       "<div>\n",
       "<style scoped>\n",
       "    .dataframe tbody tr th:only-of-type {\n",
       "        vertical-align: middle;\n",
       "    }\n",
       "\n",
       "    .dataframe tbody tr th {\n",
       "        vertical-align: top;\n",
       "    }\n",
       "\n",
       "    .dataframe thead th {\n",
       "        text-align: right;\n",
       "    }\n",
       "</style>\n",
       "<table border=\"1\" class=\"dataframe\">\n",
       "  <thead>\n",
       "    <tr style=\"text-align: right;\">\n",
       "      <th></th>\n",
       "      <th>Cust_id</th>\n",
       "      <th>Full_name</th>\n",
       "      <th>Join_date</th>\n",
       "      <th>Mobiles</th>\n",
       "    </tr>\n",
       "  </thead>\n",
       "  <tbody>\n",
       "    <tr>\n",
       "      <th>0</th>\n",
       "      <td>1</td>\n",
       "      <td>mIChAel mIcHALek</td>\n",
       "      <td>08/07/19</td>\n",
       "      <td>84333605993</td>\n",
       "    </tr>\n",
       "    <tr>\n",
       "      <th>1</th>\n",
       "      <td>2</td>\n",
       "      <td>Andrew Jimenez</td>\n",
       "      <td>09/10/18</td>\n",
       "      <td>973444062</td>\n",
       "    </tr>\n",
       "    <tr>\n",
       "      <th>2</th>\n",
       "      <td>3</td>\n",
       "      <td>Ann Gow</td>\n",
       "      <td>20190630</td>\n",
       "      <td>338262954</td>\n",
       "    </tr>\n",
       "    <tr>\n",
       "      <th>3</th>\n",
       "      <td>4</td>\n",
       "      <td>James Chen</td>\n",
       "      <td>2019-09-06 00:00:1567702800</td>\n",
       "      <td>84966068026</td>\n",
       "    </tr>\n",
       "    <tr>\n",
       "      <th>4</th>\n",
       "      <td>5</td>\n",
       "      <td>Dollie Martinez</td>\n",
       "      <td>20170812</td>\n",
       "      <td>84767065885</td>\n",
       "    </tr>\n",
       "  </tbody>\n",
       "</table>\n",
       "</div>"
      ],
      "text/plain": [
       "   Cust_id         Full_name                    Join_date      Mobiles\n",
       "0        1  mIChAel mIcHALek                     08/07/19  84333605993\n",
       "1        2    Andrew Jimenez                     09/10/18    973444062\n",
       "2        3           Ann Gow                     20190630    338262954\n",
       "3        4        James Chen  2019-09-06 00:00:1567702800  84966068026\n",
       "4        5   Dollie Martinez                     20170812  84767065885"
      ]
     },
     "execution_count": 5,
     "metadata": {},
     "output_type": "execute_result"
    }
   ],
   "source": [
    "df = df.iloc[:,[0,3,1,2]]\n",
    "df.head()"
   ]
  },
  {
   "cell_type": "code",
   "execution_count": 6,
   "id": "f9d25e70-ee57-4695-8fae-0eaac8a2b610",
   "metadata": {},
   "outputs": [
    {
     "data": {
      "text/plain": [
       "Cust_id      0\n",
       "Full_name    0\n",
       "Join_date    0\n",
       "Mobiles      0\n",
       "dtype: int64"
      ]
     },
     "execution_count": 6,
     "metadata": {},
     "output_type": "execute_result"
    }
   ],
   "source": [
    "df.isnull().sum()"
   ]
  },
  {
   "cell_type": "code",
   "execution_count": 7,
   "id": "6c55e1fb-53a9-4e64-b735-9b92a634c676",
   "metadata": {},
   "outputs": [
    {
     "data": {
      "text/plain": [
       "0"
      ]
     },
     "execution_count": 7,
     "metadata": {},
     "output_type": "execute_result"
    }
   ],
   "source": [
    "df.duplicated().sum()"
   ]
  },
  {
   "cell_type": "code",
   "execution_count": 24,
   "id": "28582e28",
   "metadata": {},
   "outputs": [
    {
     "data": {
      "text/html": [
       "<div>\n",
       "<style scoped>\n",
       "    .dataframe tbody tr th:only-of-type {\n",
       "        vertical-align: middle;\n",
       "    }\n",
       "\n",
       "    .dataframe tbody tr th {\n",
       "        vertical-align: top;\n",
       "    }\n",
       "\n",
       "    .dataframe thead th {\n",
       "        text-align: right;\n",
       "    }\n",
       "</style>\n",
       "<table border=\"1\" class=\"dataframe\">\n",
       "  <thead>\n",
       "    <tr style=\"text-align: right;\">\n",
       "      <th></th>\n",
       "      <th>Cust_id</th>\n",
       "      <th>Join_date</th>\n",
       "      <th>Mobiles</th>\n",
       "      <th>Full_name</th>\n",
       "    </tr>\n",
       "  </thead>\n",
       "  <tbody>\n",
       "    <tr>\n",
       "      <th>0</th>\n",
       "      <td>1</td>\n",
       "      <td>08/07/19</td>\n",
       "      <td>84333605993</td>\n",
       "      <td>mIChAel mIcHALek</td>\n",
       "    </tr>\n",
       "    <tr>\n",
       "      <th>1</th>\n",
       "      <td>2</td>\n",
       "      <td>09/10/18</td>\n",
       "      <td>973444062</td>\n",
       "      <td>Andrew Jimenez</td>\n",
       "    </tr>\n",
       "    <tr>\n",
       "      <th>2</th>\n",
       "      <td>3</td>\n",
       "      <td>20190630</td>\n",
       "      <td>338262954</td>\n",
       "      <td>Ann Gow</td>\n",
       "    </tr>\n",
       "    <tr>\n",
       "      <th>3</th>\n",
       "      <td>4</td>\n",
       "      <td>2019-09-06 00:00:1567702800</td>\n",
       "      <td>84966068026</td>\n",
       "      <td>James Chen</td>\n",
       "    </tr>\n",
       "    <tr>\n",
       "      <th>4</th>\n",
       "      <td>5</td>\n",
       "      <td>20170812</td>\n",
       "      <td>84767065885</td>\n",
       "      <td>Dollie Martinez</td>\n",
       "    </tr>\n",
       "  </tbody>\n",
       "</table>\n",
       "</div>"
      ],
      "text/plain": [
       "   Cust_id                    Join_date      Mobiles         Full_name\n",
       "0        1                     08/07/19  84333605993  mIChAel mIcHALek\n",
       "1        2                     09/10/18    973444062    Andrew Jimenez\n",
       "2        3                     20190630    338262954           Ann Gow\n",
       "3        4  2019-09-06 00:00:1567702800  84966068026        James Chen\n",
       "4        5                     20170812  84767065885   Dollie Martinez"
      ]
     },
     "execution_count": 24,
     "metadata": {},
     "output_type": "execute_result"
    }
   ],
   "source": [
    "df.head()"
   ]
  },
  {
   "cell_type": "code",
   "execution_count": 8,
   "id": "e7186d6f",
   "metadata": {},
   "outputs": [
    {
     "data": {
      "text/plain": [
       "array(['Michael Michalek', 'Andrew Jimenez', 'Ann Gow', 'James Chen',\n",
       "       'Dollie Martinez', 'Roger Callender', 'David Liff', 'Ruben Ray',\n",
       "       'James Demers', 'Andrea Andrews', 'Otis Arnold', 'Elmer Feezell',\n",
       "       'Kim Biddle', 'Paul Ruper', 'Robin Ledford', 'Solomon Reyna',\n",
       "       'Beulah Harvey', 'Bryan Temple', 'Anthony Herzog',\n",
       "       'Barbara Daugherty', 'Angie Davis', 'Laura Beatty', 'Thomas Ward',\n",
       "       'Juanita Nutter', 'Stephanie Short', 'Charles Garnand',\n",
       "       'James Johnson', 'James Johnson', 'Tom Faust', 'Christi Molina',\n",
       "       'Darlene Bartamian', 'Franklin Johnson', 'Lawrence Cummings',\n",
       "       'Shelby Dexter', 'Valarie Echols', 'Gregory Miele',\n",
       "       'Joseph Nebergall', 'Melvin Pigg', 'Mark Faria', 'Kevin Stewart',\n",
       "       'Elizabeth Herrington', 'Ivan Johnson', 'Marta Wong',\n",
       "       'Drucilla Palmer', 'Michael Fields', 'Paul White', 'John Lowe',\n",
       "       'Vincent Shone', 'Bok Mcmullen', 'Mary Montague', 'Teresa Story',\n",
       "       'Roland Johnson', 'Elaine Jones', 'Jane Goad', 'Anthony Robertson',\n",
       "       'William Collins', 'John Baker', 'Janet Doughty', 'Arthur Branham',\n",
       "       'Lenny Arnett', 'Judson Seymour', 'Hugo Eckel', 'Eric Lehman',\n",
       "       'Kyle Duboise', 'Elizabeth Lopez', 'Florence Luallen',\n",
       "       'Ismael Daniel', 'Brandee Upchurch', 'Sharon Harris', 'Ann Bufkin',\n",
       "       'Lorretta Douthitt', 'Vernie Thomas', 'Yvette Hayden',\n",
       "       'Timothy Wiley', 'Charley Lopez', 'Nora Jiggetts', 'Dora Bowser',\n",
       "       'Lee Rutherford', 'Dennis Repine', 'Roy Bash', 'Blair Austin',\n",
       "       'Lamont Baucom', 'Frank Seymore', 'Marion Miller',\n",
       "       'Robert Streater', 'James Wendel', 'Flora Scordato',\n",
       "       'Mildred Honda', 'Wayne Clemence', 'Tina Rissell', 'Walter Beard',\n",
       "       'Patricia Coon', 'Miguel Budreau', 'Virgil Moon',\n",
       "       'Kristen Shanahan', 'Ron Grollimund', 'Daniel Bentley',\n",
       "       'Eugene Brown', 'Elmer Miller', 'Frances Holland'], dtype=object)"
      ]
     },
     "execution_count": 8,
     "metadata": {},
     "output_type": "execute_result"
    }
   ],
   "source": [
    "df['Full_name'] = [x.title() for x in df['Full_name']]\n",
    "df['Full_name'].values"
   ]
  },
  {
   "cell_type": "code",
   "execution_count": 10,
   "id": "a178fb13",
   "metadata": {},
   "outputs": [
    {
     "data": {
      "text/html": [
       "<div>\n",
       "<style scoped>\n",
       "    .dataframe tbody tr th:only-of-type {\n",
       "        vertical-align: middle;\n",
       "    }\n",
       "\n",
       "    .dataframe tbody tr th {\n",
       "        vertical-align: top;\n",
       "    }\n",
       "\n",
       "    .dataframe thead th {\n",
       "        text-align: right;\n",
       "    }\n",
       "</style>\n",
       "<table border=\"1\" class=\"dataframe\">\n",
       "  <thead>\n",
       "    <tr style=\"text-align: right;\">\n",
       "      <th></th>\n",
       "      <th>Cust_id</th>\n",
       "      <th>Full_name</th>\n",
       "      <th>Join_date</th>\n",
       "      <th>Mobiles</th>\n",
       "    </tr>\n",
       "  </thead>\n",
       "  <tbody>\n",
       "    <tr>\n",
       "      <th>0</th>\n",
       "      <td>1</td>\n",
       "      <td>Michael Michalek</td>\n",
       "      <td>08/07/19</td>\n",
       "      <td>84333605993</td>\n",
       "    </tr>\n",
       "    <tr>\n",
       "      <th>1</th>\n",
       "      <td>2</td>\n",
       "      <td>Andrew Jimenez</td>\n",
       "      <td>09/10/18</td>\n",
       "      <td>973444062</td>\n",
       "    </tr>\n",
       "    <tr>\n",
       "      <th>2</th>\n",
       "      <td>3</td>\n",
       "      <td>Ann Gow</td>\n",
       "      <td>20190630</td>\n",
       "      <td>338262954</td>\n",
       "    </tr>\n",
       "    <tr>\n",
       "      <th>3</th>\n",
       "      <td>4</td>\n",
       "      <td>James Chen</td>\n",
       "      <td>2019-09-06 00:00:1567702800</td>\n",
       "      <td>84966068026</td>\n",
       "    </tr>\n",
       "    <tr>\n",
       "      <th>4</th>\n",
       "      <td>5</td>\n",
       "      <td>Dollie Martinez</td>\n",
       "      <td>20170812</td>\n",
       "      <td>84767065885</td>\n",
       "    </tr>\n",
       "  </tbody>\n",
       "</table>\n",
       "</div>"
      ],
      "text/plain": [
       "   Cust_id         Full_name                    Join_date      Mobiles\n",
       "0        1  Michael Michalek                     08/07/19  84333605993\n",
       "1        2    Andrew Jimenez                     09/10/18    973444062\n",
       "2        3           Ann Gow                     20190630    338262954\n",
       "3        4        James Chen  2019-09-06 00:00:1567702800  84966068026\n",
       "4        5   Dollie Martinez                     20170812  84767065885"
      ]
     },
     "execution_count": 10,
     "metadata": {},
     "output_type": "execute_result"
    }
   ],
   "source": [
    "df.head()"
   ]
  },
  {
   "cell_type": "code",
   "execution_count": 9,
   "id": "8ea04ce1",
   "metadata": {},
   "outputs": [],
   "source": [
    "df['Mobiles'] = df['Mobiles'].astype(str)\n",
    "df['Mobiles'] = [x if str(x).startswith('84') else '84'+x for x in df['Mobiles']]"
   ]
  },
  {
   "cell_type": "code",
   "execution_count": 10,
   "id": "d090329c",
   "metadata": {},
   "outputs": [
    {
     "data": {
      "text/plain": [
       "0                        08/07/19\n",
       "1                        09/10/18\n",
       "2                        20190630\n",
       "3     2019-09-06 00:00:1567702800\n",
       "4                        20170812\n",
       "                 ...             \n",
       "95                       20190816\n",
       "96    2017-08-22 00:00:1503334800\n",
       "97    2018-02-17 00:00:1518800400\n",
       "98                       20190612\n",
       "99                       20190822\n",
       "Name: Join_date, Length: 100, dtype: object"
      ]
     },
     "execution_count": 10,
     "metadata": {},
     "output_type": "execute_result"
    }
   ],
   "source": [
    "df['Join_date']"
   ]
  },
  {
   "cell_type": "code",
   "execution_count": 11,
   "id": "295f2ea5",
   "metadata": {},
   "outputs": [],
   "source": [
    "from datetime import datetime as dt\n",
    "def date_fix(x):\n",
    "    if len(x) == 8:\n",
    "        if x[2] == '/':\n",
    "            return dt.strptime(x,'%d/%m/%y')\n",
    "        else:\n",
    "            return dt.strptime(x,'%Y%m%d')\n",
    "    else:\n",
    "        return dt.strptime(x[0:10],'%Y-%m-%d')"
   ]
  },
  {
   "cell_type": "code",
   "execution_count": 12,
   "id": "2b52a261",
   "metadata": {},
   "outputs": [
    {
     "data": {
      "text/plain": [
       "0    2019-07-08\n",
       "1    2018-10-09\n",
       "2    2019-06-30\n",
       "3    2019-09-06\n",
       "4    2017-08-12\n",
       "        ...    \n",
       "95   2019-08-16\n",
       "96   2017-08-22\n",
       "97   2018-02-17\n",
       "98   2019-06-12\n",
       "99   2019-08-22\n",
       "Name: Join_date, Length: 100, dtype: datetime64[ns]"
      ]
     },
     "execution_count": 12,
     "metadata": {},
     "output_type": "execute_result"
    }
   ],
   "source": [
    "df['Join_date'] = df['Join_date'].map(date_fix)\n",
    "df['Join_date']"
   ]
  },
  {
   "cell_type": "code",
   "execution_count": 13,
   "id": "60fb5b22",
   "metadata": {},
   "outputs": [],
   "source": [
    "df['Join_date'] = [dt.strftime(x,'%d-%m-%Y') for x in df['Join_date']]"
   ]
  },
  {
   "cell_type": "code",
   "execution_count": 14,
   "id": "029f0588",
   "metadata": {},
   "outputs": [
    {
     "data": {
      "text/plain": [
       "0    08-07-2019\n",
       "1    09-10-2018\n",
       "2    30-06-2019\n",
       "3    06-09-2019\n",
       "4    12-08-2017\n",
       "Name: Join_date, dtype: object"
      ]
     },
     "execution_count": 14,
     "metadata": {},
     "output_type": "execute_result"
    }
   ],
   "source": [
    "df['Join_date'].head()"
   ]
  },
  {
   "cell_type": "code",
   "execution_count": 28,
   "id": "7a0fdf6e",
   "metadata": {},
   "outputs": [
    {
     "data": {
      "text/html": [
       "<div>\n",
       "<style scoped>\n",
       "    .dataframe tbody tr th:only-of-type {\n",
       "        vertical-align: middle;\n",
       "    }\n",
       "\n",
       "    .dataframe tbody tr th {\n",
       "        vertical-align: top;\n",
       "    }\n",
       "\n",
       "    .dataframe thead th {\n",
       "        text-align: right;\n",
       "    }\n",
       "</style>\n",
       "<table border=\"1\" class=\"dataframe\">\n",
       "  <thead>\n",
       "    <tr style=\"text-align: right;\">\n",
       "      <th></th>\n",
       "      <th>Cust_id</th>\n",
       "      <th>Full_name</th>\n",
       "      <th>Join_date</th>\n",
       "      <th>Mobiles</th>\n",
       "    </tr>\n",
       "  </thead>\n",
       "  <tbody>\n",
       "    <tr>\n",
       "      <th>0</th>\n",
       "      <td>1</td>\n",
       "      <td>Michael Michalek</td>\n",
       "      <td>08-07-2019</td>\n",
       "      <td>84333605993</td>\n",
       "    </tr>\n",
       "    <tr>\n",
       "      <th>1</th>\n",
       "      <td>2</td>\n",
       "      <td>Andrew Jimenez</td>\n",
       "      <td>09-10-2018</td>\n",
       "      <td>84973444062</td>\n",
       "    </tr>\n",
       "    <tr>\n",
       "      <th>2</th>\n",
       "      <td>3</td>\n",
       "      <td>Ann Gow</td>\n",
       "      <td>30-06-2019</td>\n",
       "      <td>84338262954</td>\n",
       "    </tr>\n",
       "    <tr>\n",
       "      <th>3</th>\n",
       "      <td>4</td>\n",
       "      <td>James Chen</td>\n",
       "      <td>06-09-2019</td>\n",
       "      <td>84966068026</td>\n",
       "    </tr>\n",
       "    <tr>\n",
       "      <th>4</th>\n",
       "      <td>5</td>\n",
       "      <td>Dollie Martinez</td>\n",
       "      <td>12-08-2017</td>\n",
       "      <td>84767065885</td>\n",
       "    </tr>\n",
       "  </tbody>\n",
       "</table>\n",
       "</div>"
      ],
      "text/plain": [
       "   Cust_id         Full_name   Join_date      Mobiles\n",
       "0        1  Michael Michalek  08-07-2019  84333605993\n",
       "1        2    Andrew Jimenez  09-10-2018  84973444062\n",
       "2        3           Ann Gow  30-06-2019  84338262954\n",
       "3        4        James Chen  06-09-2019  84966068026\n",
       "4        5   Dollie Martinez  12-08-2017  84767065885"
      ]
     },
     "execution_count": 28,
     "metadata": {},
     "output_type": "execute_result"
    }
   ],
   "source": [
    "df.head()"
   ]
  },
  {
   "cell_type": "code",
   "execution_count": 61,
   "id": "bffeff42",
   "metadata": {},
   "outputs": [],
   "source": [
    "df['First_name'] = [x[:x.index(' ')] for x in df['Full_name']]"
   ]
  },
  {
   "cell_type": "code",
   "execution_count": 59,
   "id": "797b38ee",
   "metadata": {},
   "outputs": [],
   "source": [
    "df['Last_name'] = [x[x.rindex(' '):] for x in df['Full_name']]"
   ]
  },
  {
   "cell_type": "code",
   "execution_count": 62,
   "id": "e8423a85",
   "metadata": {},
   "outputs": [],
   "source": [
    "df['Email'] = df['Last_name'] +  df['First_name'] +  df['Cust_id'].astype(str) + '@yourcompany.com'"
   ]
  },
  {
   "cell_type": "code",
   "execution_count": 63,
   "id": "d9c02c42",
   "metadata": {},
   "outputs": [
    {
     "data": {
      "text/plain": [
       "0       MichalekMichael1@yourcompany.com\n",
       "1         JimenezAndrew2@yourcompany.com\n",
       "2                GowAnn3@yourcompany.com\n",
       "3             ChenJames4@yourcompany.com\n",
       "4        MartinezDollie5@yourcompany.com\n",
       "                     ...                \n",
       "95       GrollimundRon96@yourcompany.com\n",
       "96       BentleyDaniel97@yourcompany.com\n",
       "97         BrownEugene98@yourcompany.com\n",
       "98         MillerElmer99@yourcompany.com\n",
       "99     HollandFrances100@yourcompany.com\n",
       "Name: Email, Length: 100, dtype: object"
      ]
     },
     "execution_count": 63,
     "metadata": {},
     "output_type": "execute_result"
    }
   ],
   "source": [
    "df['Email']"
   ]
  },
  {
   "cell_type": "code",
   "execution_count": 64,
   "id": "ed200794",
   "metadata": {},
   "outputs": [],
   "source": [
    "df.drop(['Last_name', 'First_name'], axis = 1, inplace = True)"
   ]
  },
  {
   "cell_type": "code",
   "execution_count": 65,
   "id": "90c25b37",
   "metadata": {},
   "outputs": [
    {
     "data": {
      "text/html": [
       "<div>\n",
       "<style scoped>\n",
       "    .dataframe tbody tr th:only-of-type {\n",
       "        vertical-align: middle;\n",
       "    }\n",
       "\n",
       "    .dataframe tbody tr th {\n",
       "        vertical-align: top;\n",
       "    }\n",
       "\n",
       "    .dataframe thead th {\n",
       "        text-align: right;\n",
       "    }\n",
       "</style>\n",
       "<table border=\"1\" class=\"dataframe\">\n",
       "  <thead>\n",
       "    <tr style=\"text-align: right;\">\n",
       "      <th></th>\n",
       "      <th>Cust_id</th>\n",
       "      <th>Full_name</th>\n",
       "      <th>Join_date</th>\n",
       "      <th>Mobiles</th>\n",
       "      <th>Email</th>\n",
       "      <th>email</th>\n",
       "    </tr>\n",
       "  </thead>\n",
       "  <tbody>\n",
       "    <tr>\n",
       "      <th>0</th>\n",
       "      <td>1</td>\n",
       "      <td>Michael Michalek</td>\n",
       "      <td>08-07-2019</td>\n",
       "      <td>84333605993</td>\n",
       "      <td>MichalekMichael1@yourcompany.com</td>\n",
       "      <td>Michael.Michael.1@yourcompany.com</td>\n",
       "    </tr>\n",
       "    <tr>\n",
       "      <th>1</th>\n",
       "      <td>2</td>\n",
       "      <td>Andrew Jimenez</td>\n",
       "      <td>09-10-2018</td>\n",
       "      <td>84973444062</td>\n",
       "      <td>JimenezAndrew2@yourcompany.com</td>\n",
       "      <td>Andrew.Andrew.2@yourcompany.com</td>\n",
       "    </tr>\n",
       "    <tr>\n",
       "      <th>2</th>\n",
       "      <td>3</td>\n",
       "      <td>Ann Gow</td>\n",
       "      <td>30-06-2019</td>\n",
       "      <td>84338262954</td>\n",
       "      <td>GowAnn3@yourcompany.com</td>\n",
       "      <td>Ann.Ann.3@yourcompany.com</td>\n",
       "    </tr>\n",
       "    <tr>\n",
       "      <th>3</th>\n",
       "      <td>4</td>\n",
       "      <td>James Chen</td>\n",
       "      <td>06-09-2019</td>\n",
       "      <td>84966068026</td>\n",
       "      <td>ChenJames4@yourcompany.com</td>\n",
       "      <td>James.James.4@yourcompany.com</td>\n",
       "    </tr>\n",
       "    <tr>\n",
       "      <th>4</th>\n",
       "      <td>5</td>\n",
       "      <td>Dollie Martinez</td>\n",
       "      <td>12-08-2017</td>\n",
       "      <td>84767065885</td>\n",
       "      <td>MartinezDollie5@yourcompany.com</td>\n",
       "      <td>Dollie.Dollie.5@yourcompany.com</td>\n",
       "    </tr>\n",
       "  </tbody>\n",
       "</table>\n",
       "</div>"
      ],
      "text/plain": [
       "   Cust_id         Full_name   Join_date      Mobiles  \\\n",
       "0        1  Michael Michalek  08-07-2019  84333605993   \n",
       "1        2    Andrew Jimenez  09-10-2018  84973444062   \n",
       "2        3           Ann Gow  30-06-2019  84338262954   \n",
       "3        4        James Chen  06-09-2019  84966068026   \n",
       "4        5   Dollie Martinez  12-08-2017  84767065885   \n",
       "\n",
       "                               Email                              email  \n",
       "0   MichalekMichael1@yourcompany.com  Michael.Michael.1@yourcompany.com  \n",
       "1     JimenezAndrew2@yourcompany.com    Andrew.Andrew.2@yourcompany.com  \n",
       "2            GowAnn3@yourcompany.com          Ann.Ann.3@yourcompany.com  \n",
       "3         ChenJames4@yourcompany.com      James.James.4@yourcompany.com  \n",
       "4    MartinezDollie5@yourcompany.com    Dollie.Dollie.5@yourcompany.com  "
      ]
     },
     "execution_count": 65,
     "metadata": {},
     "output_type": "execute_result"
    }
   ],
   "source": [
    "df.head()"
   ]
  },
  {
   "cell_type": "code",
   "execution_count": null,
   "id": "5cbe48b0",
   "metadata": {},
   "outputs": [],
   "source": []
  }
 ],
 "metadata": {
  "kernelspec": {
   "display_name": "Python 3 (ipykernel)",
   "language": "python",
   "name": "python3"
  },
  "language_info": {
   "codemirror_mode": {
    "name": "ipython",
    "version": 3
   },
   "file_extension": ".py",
   "mimetype": "text/x-python",
   "name": "python",
   "nbconvert_exporter": "python",
   "pygments_lexer": "ipython3",
   "version": "3.11.4"
  }
 },
 "nbformat": 4,
 "nbformat_minor": 5
}
