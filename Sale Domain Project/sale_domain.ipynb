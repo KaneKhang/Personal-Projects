{
  "cells": [
    {
      "cell_type": "code",
      "execution_count": null,
      "metadata": {
        "colab": {
          "base_uri": "https://localhost:8080/"
        },
        "id": "dYX0aIMED59u",
        "outputId": "fb32ad2b-5238-4e78-a332-852ec2532d58"
      },
      "outputs": [
        {
          "output_type": "stream",
          "name": "stdout",
          "text": [
            "Mounted at /content/drive\n"
          ]
        }
      ],
      "source": [
        "from google.colab import drive\n",
        "import pandas as pd\n",
        "drive.mount('/content/drive')"
      ]
    },
    {
      "cell_type": "markdown",
      "metadata": {
        "id": "-wtXLEwe964M"
      },
      "source": [
        "# **PREPARING THE DATASETS**"
      ]
    },
    {
      "cell_type": "code",
      "execution_count": null,
      "metadata": {
        "id": "U8rL4XHvR2-z"
      },
      "outputs": [],
      "source": [
        "#import file:\n",
        "customer = '/content/drive/My Drive/data_domain/dim_customer.csv'\n",
        "product = '/content/drive/My Drive/data_domain/dim_product.csv'\n",
        "gross_price = '/content/drive/My Drive/data_domain/fact_gross_price.csv'\n",
        "cost = '/content/drive/My Drive/data_domain/fact_manufacturing_cost.csv'\n",
        "discount = '/content/drive/My Drive/data_domain/fact_pre_discount.csv'\n",
        "sale = '/content/drive/My Drive/data_domain/fact_sales_monthly.csv'"
      ]
    },
    {
      "cell_type": "code",
      "execution_count": null,
      "metadata": {
        "id": "bGUsT7LyTHmg"
      },
      "outputs": [],
      "source": [
        "all = ['customer','product','price','cost','discount','sale']\n",
        "for name in all:\n",
        "  name = pd.read_csv(name)"
      ]
    },
    {
      "cell_type": "code",
      "execution_count": null,
      "metadata": {
        "id": "2UBo7afk-6nF"
      },
      "outputs": [],
      "source": [
        "customer = pd.read_csv(customer)\n",
        "product = pd.read_csv(product)\n",
        "price = pd.read_csv(gross_price)\n",
        "cost = pd.read_csv(cost)\n",
        "discount = pd.read_csv(discount)\n",
        "sale = pd.read_csv(sale)"
      ]
    },
    {
      "cell_type": "code",
      "execution_count": null,
      "metadata": {
        "colab": {
          "base_uri": "https://localhost:8080/"
        },
        "id": "UdJY8E1qCf-g",
        "outputId": "f31a450a-33d8-4ce8-863a-cb117a5ba0a2"
      },
      "outputs": [
        {
          "output_type": "stream",
          "name": "stdout",
          "text": [
            "<class 'pandas.core.frame.DataFrame'>\n",
            "RangeIndex: 209 entries, 0 to 208\n",
            "Data columns (total 7 columns):\n",
            " #   Column         Non-Null Count  Dtype \n",
            "---  ------         --------------  ----- \n",
            " 0   customer_code  209 non-null    int64 \n",
            " 1   customer       209 non-null    object\n",
            " 2   platform       209 non-null    object\n",
            " 3   channel        209 non-null    object\n",
            " 4   market         209 non-null    object\n",
            " 5   sub_zone       183 non-null    object\n",
            " 6   region         183 non-null    object\n",
            "dtypes: int64(1), object(6)\n",
            "memory usage: 11.6+ KB\n"
          ]
        }
      ],
      "source": [
        "customer.info()"
      ]
    },
    {
      "cell_type": "code",
      "execution_count": null,
      "metadata": {
        "colab": {
          "base_uri": "https://localhost:8080/"
        },
        "id": "QLkznj1YNJqj",
        "outputId": "5ab9e609-ebee-42af-9950-aa98f01338f3"
      },
      "outputs": [
        {
          "output_type": "execute_result",
          "data": {
            "text/plain": [
              "Index(['customer_code', 'customer', 'platform', 'channel', 'market',\n",
              "       'sub_zone', 'region'],\n",
              "      dtype='object')"
            ]
          },
          "metadata": {},
          "execution_count": 64
        }
      ],
      "source": [
        "customer.columns"
      ]
    },
    {
      "cell_type": "markdown",
      "metadata": {
        "id": "mEopNgZyJSUf"
      },
      "source": [
        "As we don't need sub_zone and region column so they will be deleted in merging step"
      ]
    },
    {
      "cell_type": "code",
      "execution_count": null,
      "metadata": {
        "colab": {
          "base_uri": "https://localhost:8080/"
        },
        "id": "hK5eSJOdEAuM",
        "outputId": "6aab3dca-08b9-41da-ab3d-430583bdcffe"
      },
      "outputs": [
        {
          "output_type": "stream",
          "name": "stdout",
          "text": [
            "<class 'pandas.core.frame.DataFrame'>\n",
            "RangeIndex: 397 entries, 0 to 396\n",
            "Data columns (total 6 columns):\n",
            " #   Column        Non-Null Count  Dtype \n",
            "---  ------        --------------  ----- \n",
            " 0   product_code  397 non-null    object\n",
            " 1   division      397 non-null    object\n",
            " 2   segment       397 non-null    object\n",
            " 3   category      397 non-null    object\n",
            " 4   product       397 non-null    object\n",
            " 5   variant       397 non-null    object\n",
            "dtypes: object(6)\n",
            "memory usage: 18.7+ KB\n"
          ]
        }
      ],
      "source": [
        "product.info()"
      ]
    },
    {
      "cell_type": "code",
      "execution_count": null,
      "metadata": {
        "colab": {
          "base_uri": "https://localhost:8080/"
        },
        "id": "yVbobLeFPoJ1",
        "outputId": "cdef170b-a6ae-46fe-fcd1-0c43f01430dd"
      },
      "outputs": [
        {
          "output_type": "stream",
          "name": "stdout",
          "text": [
            "<class 'pandas.core.frame.DataFrame'>\n",
            "RangeIndex: 1182 entries, 0 to 1181\n",
            "Data columns (total 3 columns):\n",
            " #   Column              Non-Null Count  Dtype  \n",
            "---  ------              --------------  -----  \n",
            " 0   product_code        1182 non-null   object \n",
            " 1   cost_year           1182 non-null   int64  \n",
            " 2   manufacturing_cost  1182 non-null   float64\n",
            "dtypes: float64(1), int64(1), object(1)\n",
            "memory usage: 27.8+ KB\n"
          ]
        }
      ],
      "source": [
        "cost.info()"
      ]
    },
    {
      "cell_type": "code",
      "execution_count": null,
      "metadata": {
        "colab": {
          "base_uri": "https://localhost:8080/"
        },
        "id": "QppZLvIEEEOG",
        "outputId": "0c1f5645-dc1b-468e-c131-4ad7c7a62294"
      },
      "outputs": [
        {
          "output_type": "stream",
          "name": "stdout",
          "text": [
            "<class 'pandas.core.frame.DataFrame'>\n",
            "RangeIndex: 1182 entries, 0 to 1181\n",
            "Data columns (total 3 columns):\n",
            " #   Column        Non-Null Count  Dtype  \n",
            "---  ------        --------------  -----  \n",
            " 0   product_code  1182 non-null   object \n",
            " 1   fiscal_year   1182 non-null   int64  \n",
            " 2   gross_price   1182 non-null   float64\n",
            "dtypes: float64(1), int64(1), object(1)\n",
            "memory usage: 27.8+ KB\n"
          ]
        }
      ],
      "source": [
        "price.info()"
      ]
    },
    {
      "cell_type": "code",
      "execution_count": null,
      "metadata": {
        "colab": {
          "base_uri": "https://localhost:8080/"
        },
        "id": "wgY9O71TEHuV",
        "outputId": "7e980edc-29db-46d4-ec27-d5e3ac19fa86"
      },
      "outputs": [
        {
          "output_type": "stream",
          "name": "stdout",
          "text": [
            "<class 'pandas.core.frame.DataFrame'>\n",
            "RangeIndex: 1045 entries, 0 to 1044\n",
            "Data columns (total 3 columns):\n",
            " #   Column                    Non-Null Count  Dtype  \n",
            "---  ------                    --------------  -----  \n",
            " 0   customer_code             1045 non-null   int64  \n",
            " 1   fiscal_year               1045 non-null   int64  \n",
            " 2   pre_invoice_discount_pct  1045 non-null   float64\n",
            "dtypes: float64(1), int64(2)\n",
            "memory usage: 24.6 KB\n"
          ]
        }
      ],
      "source": [
        "discount.info()"
      ]
    },
    {
      "cell_type": "code",
      "execution_count": null,
      "metadata": {
        "colab": {
          "base_uri": "https://localhost:8080/"
        },
        "id": "t-YV7fYuELfQ",
        "outputId": "a32d32c2-379d-4c34-e544-d47acead6e74"
      },
      "outputs": [
        {
          "output_type": "stream",
          "name": "stdout",
          "text": [
            "<class 'pandas.core.frame.DataFrame'>\n",
            "RangeIndex: 67251 entries, 0 to 67250\n",
            "Data columns (total 5 columns):\n",
            " #   Column         Non-Null Count  Dtype  \n",
            "---  ------         --------------  -----  \n",
            " 0   date           67251 non-null  object \n",
            " 1   product_code   67251 non-null  object \n",
            " 2   customer_code  67250 non-null  float64\n",
            " 3   sold_quantity  67250 non-null  float64\n",
            " 4   fiscal_year    67250 non-null  float64\n",
            "dtypes: float64(3), object(2)\n",
            "memory usage: 2.6+ MB\n"
          ]
        }
      ],
      "source": [
        "sale.info()"
      ]
    },
    {
      "cell_type": "markdown",
      "metadata": {
        "id": "nEgAzhSTMjdJ"
      },
      "source": [
        "The datatype of float should be convert to int by the column context"
      ]
    },
    {
      "cell_type": "code",
      "execution_count": null,
      "metadata": {
        "id": "GT5NnQ4GLwrg"
      },
      "outputs": [],
      "source": [
        "sale[['customer_code','sold_quantity','fiscal_year']] = sale[['customer_code','sold_quantity','fiscal_year']].astype(int)"
      ]
    },
    {
      "cell_type": "code",
      "execution_count": null,
      "metadata": {
        "colab": {
          "base_uri": "https://localhost:8080/",
          "height": 81
        },
        "id": "Ox2wlEhGEOnS",
        "outputId": "27d89c97-b2c2-433f-df14-1b95bb18e53c"
      },
      "outputs": [
        {
          "output_type": "execute_result",
          "data": {
            "text/plain": [
              "             date product_code  customer_code  sold_quantity  fiscal_year\n",
              "67250  2019-06-01           A0            NaN            NaN          NaN"
            ],
            "text/html": [
              "\n",
              "  <div id=\"df-ad2c2a8c-3839-49c9-9d58-c967deb1facc\">\n",
              "    <div class=\"colab-df-container\">\n",
              "      <div>\n",
              "<style scoped>\n",
              "    .dataframe tbody tr th:only-of-type {\n",
              "        vertical-align: middle;\n",
              "    }\n",
              "\n",
              "    .dataframe tbody tr th {\n",
              "        vertical-align: top;\n",
              "    }\n",
              "\n",
              "    .dataframe thead th {\n",
              "        text-align: right;\n",
              "    }\n",
              "</style>\n",
              "<table border=\"1\" class=\"dataframe\">\n",
              "  <thead>\n",
              "    <tr style=\"text-align: right;\">\n",
              "      <th></th>\n",
              "      <th>date</th>\n",
              "      <th>product_code</th>\n",
              "      <th>customer_code</th>\n",
              "      <th>sold_quantity</th>\n",
              "      <th>fiscal_year</th>\n",
              "    </tr>\n",
              "  </thead>\n",
              "  <tbody>\n",
              "    <tr>\n",
              "      <th>67250</th>\n",
              "      <td>2019-06-01</td>\n",
              "      <td>A0</td>\n",
              "      <td>NaN</td>\n",
              "      <td>NaN</td>\n",
              "      <td>NaN</td>\n",
              "    </tr>\n",
              "  </tbody>\n",
              "</table>\n",
              "</div>\n",
              "      <button class=\"colab-df-convert\" onclick=\"convertToInteractive('df-ad2c2a8c-3839-49c9-9d58-c967deb1facc')\"\n",
              "              title=\"Convert this dataframe to an interactive table.\"\n",
              "              style=\"display:none;\">\n",
              "        \n",
              "  <svg xmlns=\"http://www.w3.org/2000/svg\" height=\"24px\"viewBox=\"0 0 24 24\"\n",
              "       width=\"24px\">\n",
              "    <path d=\"M0 0h24v24H0V0z\" fill=\"none\"/>\n",
              "    <path d=\"M18.56 5.44l.94 2.06.94-2.06 2.06-.94-2.06-.94-.94-2.06-.94 2.06-2.06.94zm-11 1L8.5 8.5l.94-2.06 2.06-.94-2.06-.94L8.5 2.5l-.94 2.06-2.06.94zm10 10l.94 2.06.94-2.06 2.06-.94-2.06-.94-.94-2.06-.94 2.06-2.06.94z\"/><path d=\"M17.41 7.96l-1.37-1.37c-.4-.4-.92-.59-1.43-.59-.52 0-1.04.2-1.43.59L10.3 9.45l-7.72 7.72c-.78.78-.78 2.05 0 2.83L4 21.41c.39.39.9.59 1.41.59.51 0 1.02-.2 1.41-.59l7.78-7.78 2.81-2.81c.8-.78.8-2.07 0-2.86zM5.41 20L4 18.59l7.72-7.72 1.47 1.35L5.41 20z\"/>\n",
              "  </svg>\n",
              "      </button>\n",
              "      \n",
              "  <style>\n",
              "    .colab-df-container {\n",
              "      display:flex;\n",
              "      flex-wrap:wrap;\n",
              "      gap: 12px;\n",
              "    }\n",
              "\n",
              "    .colab-df-convert {\n",
              "      background-color: #E8F0FE;\n",
              "      border: none;\n",
              "      border-radius: 50%;\n",
              "      cursor: pointer;\n",
              "      display: none;\n",
              "      fill: #1967D2;\n",
              "      height: 32px;\n",
              "      padding: 0 0 0 0;\n",
              "      width: 32px;\n",
              "    }\n",
              "\n",
              "    .colab-df-convert:hover {\n",
              "      background-color: #E2EBFA;\n",
              "      box-shadow: 0px 1px 2px rgba(60, 64, 67, 0.3), 0px 1px 3px 1px rgba(60, 64, 67, 0.15);\n",
              "      fill: #174EA6;\n",
              "    }\n",
              "\n",
              "    [theme=dark] .colab-df-convert {\n",
              "      background-color: #3B4455;\n",
              "      fill: #D2E3FC;\n",
              "    }\n",
              "\n",
              "    [theme=dark] .colab-df-convert:hover {\n",
              "      background-color: #434B5C;\n",
              "      box-shadow: 0px 1px 3px 1px rgba(0, 0, 0, 0.15);\n",
              "      filter: drop-shadow(0px 1px 2px rgba(0, 0, 0, 0.3));\n",
              "      fill: #FFFFFF;\n",
              "    }\n",
              "  </style>\n",
              "\n",
              "      <script>\n",
              "        const buttonEl =\n",
              "          document.querySelector('#df-ad2c2a8c-3839-49c9-9d58-c967deb1facc button.colab-df-convert');\n",
              "        buttonEl.style.display =\n",
              "          google.colab.kernel.accessAllowed ? 'block' : 'none';\n",
              "\n",
              "        async function convertToInteractive(key) {\n",
              "          const element = document.querySelector('#df-ad2c2a8c-3839-49c9-9d58-c967deb1facc');\n",
              "          const dataTable =\n",
              "            await google.colab.kernel.invokeFunction('convertToInteractive',\n",
              "                                                     [key], {});\n",
              "          if (!dataTable) return;\n",
              "\n",
              "          const docLinkHtml = 'Like what you see? Visit the ' +\n",
              "            '<a target=\"_blank\" href=https://colab.research.google.com/notebooks/data_table.ipynb>data table notebook</a>'\n",
              "            + ' to learn more about interactive tables.';\n",
              "          element.innerHTML = '';\n",
              "          dataTable['output_type'] = 'display_data';\n",
              "          await google.colab.output.renderOutput(dataTable, element);\n",
              "          const docLink = document.createElement('div');\n",
              "          docLink.innerHTML = docLinkHtml;\n",
              "          element.appendChild(docLink);\n",
              "        }\n",
              "      </script>\n",
              "    </div>\n",
              "  </div>\n",
              "  "
            ]
          },
          "metadata": {},
          "execution_count": 5
        }
      ],
      "source": [
        "sale_nan = sale[sale.isna().any(axis=1)]\n",
        "sale_nan"
      ]
    },
    {
      "cell_type": "markdown",
      "metadata": {
        "id": "hkMsR_cOJjSd"
      },
      "source": [
        "We have to delete this product_code to qualify the data\n",
        "\n"
      ]
    },
    {
      "cell_type": "code",
      "execution_count": null,
      "metadata": {
        "id": "9pQ1CWkMEy37"
      },
      "outputs": [],
      "source": [
        "sale = sale[sale['product_code']!='A0']"
      ]
    },
    {
      "cell_type": "code",
      "execution_count": null,
      "metadata": {
        "colab": {
          "base_uri": "https://localhost:8080/"
        },
        "id": "F3Pcs3ndFIYg",
        "outputId": "f2e41e2b-cbec-432e-deb6-c331b269143e"
      },
      "outputs": [
        {
          "output_type": "execute_result",
          "data": {
            "text/plain": [
              "date             0\n",
              "product_code     0\n",
              "customer_code    0\n",
              "sold_quantity    0\n",
              "fiscal_year      0\n",
              "dtype: int64"
            ]
          },
          "metadata": {},
          "execution_count": 7
        }
      ],
      "source": [
        "sale.isnull().sum()"
      ]
    },
    {
      "cell_type": "code",
      "source": [
        "customer['customer'].value_counts()"
      ],
      "metadata": {
        "colab": {
          "base_uri": "https://localhost:8080/"
        },
        "id": "GYNnxVhEQPKP",
        "outputId": "13342ced-8c00-4082-9bbd-68ffc4b3a216"
      },
      "execution_count": null,
      "outputs": [
        {
          "output_type": "execute_result",
          "data": {
            "text/plain": [
              "Amazon             25\n",
              "Atliq e Store      24\n",
              "Atliq Exclusive    17\n",
              "Expert              5\n",
              "Euronics            4\n",
              "                   ..\n",
              "Croma               1\n",
              "Ezone               1\n",
              "Vijay Sales         1\n",
              "Lotus               1\n",
              "Saturn              1\n",
              "Name: customer, Length: 75, dtype: int64"
            ]
          },
          "metadata": {},
          "execution_count": 10
        }
      ]
    },
    {
      "cell_type": "code",
      "source": [
        "customer.loc[customer['customer']== 'Amazon ', 'customer'] = 'Amazon'"
      ],
      "metadata": {
        "id": "FSuO7pPuQNOY"
      },
      "execution_count": null,
      "outputs": []
    },
    {
      "cell_type": "markdown",
      "metadata": {
        "id": "-H9UPE__KA3m"
      },
      "source": [
        "# **MERGING DATA**"
      ]
    },
    {
      "cell_type": "code",
      "execution_count": null,
      "metadata": {
        "colab": {
          "base_uri": "https://localhost:8080/",
          "height": 206
        },
        "id": "K3wALaDoKF8z",
        "outputId": "e2b9c32c-6bed-4840-89cd-958cfddca5c1"
      },
      "outputs": [
        {
          "output_type": "execute_result",
          "data": {
            "text/plain": [
              "         date product_code  customer_code  sold_quantity  fiscal_year  \\\n",
              "0  2017-09-01  A0118150101       70002017             51         2018   \n",
              "1  2017-09-01  A0118150101       70002018             77         2018   \n",
              "2  2017-09-01  A0118150101       70003181             17         2018   \n",
              "3  2017-09-01  A0118150101       70003182              6         2018   \n",
              "4  2017-09-01  A0118150101       70006157              5         2018   \n",
              "\n",
              "   gross_price  \n",
              "0      15.3952  \n",
              "1      15.3952  \n",
              "2      15.3952  \n",
              "3      15.3952  \n",
              "4      15.3952  "
            ],
            "text/html": [
              "\n",
              "  <div id=\"df-d58451f4-64ef-4bec-a117-06e8c41356cb\">\n",
              "    <div class=\"colab-df-container\">\n",
              "      <div>\n",
              "<style scoped>\n",
              "    .dataframe tbody tr th:only-of-type {\n",
              "        vertical-align: middle;\n",
              "    }\n",
              "\n",
              "    .dataframe tbody tr th {\n",
              "        vertical-align: top;\n",
              "    }\n",
              "\n",
              "    .dataframe thead th {\n",
              "        text-align: right;\n",
              "    }\n",
              "</style>\n",
              "<table border=\"1\" class=\"dataframe\">\n",
              "  <thead>\n",
              "    <tr style=\"text-align: right;\">\n",
              "      <th></th>\n",
              "      <th>date</th>\n",
              "      <th>product_code</th>\n",
              "      <th>customer_code</th>\n",
              "      <th>sold_quantity</th>\n",
              "      <th>fiscal_year</th>\n",
              "      <th>gross_price</th>\n",
              "    </tr>\n",
              "  </thead>\n",
              "  <tbody>\n",
              "    <tr>\n",
              "      <th>0</th>\n",
              "      <td>2017-09-01</td>\n",
              "      <td>A0118150101</td>\n",
              "      <td>70002017</td>\n",
              "      <td>51</td>\n",
              "      <td>2018</td>\n",
              "      <td>15.3952</td>\n",
              "    </tr>\n",
              "    <tr>\n",
              "      <th>1</th>\n",
              "      <td>2017-09-01</td>\n",
              "      <td>A0118150101</td>\n",
              "      <td>70002018</td>\n",
              "      <td>77</td>\n",
              "      <td>2018</td>\n",
              "      <td>15.3952</td>\n",
              "    </tr>\n",
              "    <tr>\n",
              "      <th>2</th>\n",
              "      <td>2017-09-01</td>\n",
              "      <td>A0118150101</td>\n",
              "      <td>70003181</td>\n",
              "      <td>17</td>\n",
              "      <td>2018</td>\n",
              "      <td>15.3952</td>\n",
              "    </tr>\n",
              "    <tr>\n",
              "      <th>3</th>\n",
              "      <td>2017-09-01</td>\n",
              "      <td>A0118150101</td>\n",
              "      <td>70003182</td>\n",
              "      <td>6</td>\n",
              "      <td>2018</td>\n",
              "      <td>15.3952</td>\n",
              "    </tr>\n",
              "    <tr>\n",
              "      <th>4</th>\n",
              "      <td>2017-09-01</td>\n",
              "      <td>A0118150101</td>\n",
              "      <td>70006157</td>\n",
              "      <td>5</td>\n",
              "      <td>2018</td>\n",
              "      <td>15.3952</td>\n",
              "    </tr>\n",
              "  </tbody>\n",
              "</table>\n",
              "</div>\n",
              "      <button class=\"colab-df-convert\" onclick=\"convertToInteractive('df-d58451f4-64ef-4bec-a117-06e8c41356cb')\"\n",
              "              title=\"Convert this dataframe to an interactive table.\"\n",
              "              style=\"display:none;\">\n",
              "        \n",
              "  <svg xmlns=\"http://www.w3.org/2000/svg\" height=\"24px\"viewBox=\"0 0 24 24\"\n",
              "       width=\"24px\">\n",
              "    <path d=\"M0 0h24v24H0V0z\" fill=\"none\"/>\n",
              "    <path d=\"M18.56 5.44l.94 2.06.94-2.06 2.06-.94-2.06-.94-.94-2.06-.94 2.06-2.06.94zm-11 1L8.5 8.5l.94-2.06 2.06-.94-2.06-.94L8.5 2.5l-.94 2.06-2.06.94zm10 10l.94 2.06.94-2.06 2.06-.94-2.06-.94-.94-2.06-.94 2.06-2.06.94z\"/><path d=\"M17.41 7.96l-1.37-1.37c-.4-.4-.92-.59-1.43-.59-.52 0-1.04.2-1.43.59L10.3 9.45l-7.72 7.72c-.78.78-.78 2.05 0 2.83L4 21.41c.39.39.9.59 1.41.59.51 0 1.02-.2 1.41-.59l7.78-7.78 2.81-2.81c.8-.78.8-2.07 0-2.86zM5.41 20L4 18.59l7.72-7.72 1.47 1.35L5.41 20z\"/>\n",
              "  </svg>\n",
              "      </button>\n",
              "      \n",
              "  <style>\n",
              "    .colab-df-container {\n",
              "      display:flex;\n",
              "      flex-wrap:wrap;\n",
              "      gap: 12px;\n",
              "    }\n",
              "\n",
              "    .colab-df-convert {\n",
              "      background-color: #E8F0FE;\n",
              "      border: none;\n",
              "      border-radius: 50%;\n",
              "      cursor: pointer;\n",
              "      display: none;\n",
              "      fill: #1967D2;\n",
              "      height: 32px;\n",
              "      padding: 0 0 0 0;\n",
              "      width: 32px;\n",
              "    }\n",
              "\n",
              "    .colab-df-convert:hover {\n",
              "      background-color: #E2EBFA;\n",
              "      box-shadow: 0px 1px 2px rgba(60, 64, 67, 0.3), 0px 1px 3px 1px rgba(60, 64, 67, 0.15);\n",
              "      fill: #174EA6;\n",
              "    }\n",
              "\n",
              "    [theme=dark] .colab-df-convert {\n",
              "      background-color: #3B4455;\n",
              "      fill: #D2E3FC;\n",
              "    }\n",
              "\n",
              "    [theme=dark] .colab-df-convert:hover {\n",
              "      background-color: #434B5C;\n",
              "      box-shadow: 0px 1px 3px 1px rgba(0, 0, 0, 0.15);\n",
              "      filter: drop-shadow(0px 1px 2px rgba(0, 0, 0, 0.3));\n",
              "      fill: #FFFFFF;\n",
              "    }\n",
              "  </style>\n",
              "\n",
              "      <script>\n",
              "        const buttonEl =\n",
              "          document.querySelector('#df-d58451f4-64ef-4bec-a117-06e8c41356cb button.colab-df-convert');\n",
              "        buttonEl.style.display =\n",
              "          google.colab.kernel.accessAllowed ? 'block' : 'none';\n",
              "\n",
              "        async function convertToInteractive(key) {\n",
              "          const element = document.querySelector('#df-d58451f4-64ef-4bec-a117-06e8c41356cb');\n",
              "          const dataTable =\n",
              "            await google.colab.kernel.invokeFunction('convertToInteractive',\n",
              "                                                     [key], {});\n",
              "          if (!dataTable) return;\n",
              "\n",
              "          const docLinkHtml = 'Like what you see? Visit the ' +\n",
              "            '<a target=\"_blank\" href=https://colab.research.google.com/notebooks/data_table.ipynb>data table notebook</a>'\n",
              "            + ' to learn more about interactive tables.';\n",
              "          element.innerHTML = '';\n",
              "          dataTable['output_type'] = 'display_data';\n",
              "          await google.colab.output.renderOutput(dataTable, element);\n",
              "          const docLink = document.createElement('div');\n",
              "          docLink.innerHTML = docLinkHtml;\n",
              "          element.appendChild(docLink);\n",
              "        }\n",
              "      </script>\n",
              "    </div>\n",
              "  </div>\n",
              "  "
            ]
          },
          "metadata": {},
          "execution_count": 12
        }
      ],
      "source": [
        "#JOIN sale and price tables\n",
        "df = sale.merge(price[['product_code','fiscal_year','gross_price']], on = ['product_code','fiscal_year'])\n",
        "df.head()"
      ]
    },
    {
      "cell_type": "code",
      "execution_count": null,
      "metadata": {
        "colab": {
          "base_uri": "https://localhost:8080/",
          "height": 206
        },
        "id": "A6PpGB7QM9Ck",
        "outputId": "9adfe48d-4398-4efb-f734-27c86e4e1153"
      },
      "outputs": [
        {
          "output_type": "execute_result",
          "data": {
            "text/plain": [
              "         date product_code  customer_code  sold_quantity  fiscal_year  \\\n",
              "0  2017-09-01  A0118150101       70002017             51         2018   \n",
              "1  2017-10-01  A0118150101       70002017             54         2018   \n",
              "2  2017-11-01  A0118150101       70002017             30         2018   \n",
              "3  2018-01-01  A0118150101       70002017             14         2018   \n",
              "4  2018-02-01  A0118150101       70002017             62         2018   \n",
              "\n",
              "   gross_price         customer        platform channel market  \n",
              "0      15.3952  Atliq Exclusive  Brick & Mortar  Direct  India  \n",
              "1      15.3952  Atliq Exclusive  Brick & Mortar  Direct  India  \n",
              "2      15.3952  Atliq Exclusive  Brick & Mortar  Direct  India  \n",
              "3      15.3952  Atliq Exclusive  Brick & Mortar  Direct  India  \n",
              "4      15.3952  Atliq Exclusive  Brick & Mortar  Direct  India  "
            ],
            "text/html": [
              "\n",
              "  <div id=\"df-82b4bb82-7cb9-4dae-a228-90ad7aa7b566\">\n",
              "    <div class=\"colab-df-container\">\n",
              "      <div>\n",
              "<style scoped>\n",
              "    .dataframe tbody tr th:only-of-type {\n",
              "        vertical-align: middle;\n",
              "    }\n",
              "\n",
              "    .dataframe tbody tr th {\n",
              "        vertical-align: top;\n",
              "    }\n",
              "\n",
              "    .dataframe thead th {\n",
              "        text-align: right;\n",
              "    }\n",
              "</style>\n",
              "<table border=\"1\" class=\"dataframe\">\n",
              "  <thead>\n",
              "    <tr style=\"text-align: right;\">\n",
              "      <th></th>\n",
              "      <th>date</th>\n",
              "      <th>product_code</th>\n",
              "      <th>customer_code</th>\n",
              "      <th>sold_quantity</th>\n",
              "      <th>fiscal_year</th>\n",
              "      <th>gross_price</th>\n",
              "      <th>customer</th>\n",
              "      <th>platform</th>\n",
              "      <th>channel</th>\n",
              "      <th>market</th>\n",
              "    </tr>\n",
              "  </thead>\n",
              "  <tbody>\n",
              "    <tr>\n",
              "      <th>0</th>\n",
              "      <td>2017-09-01</td>\n",
              "      <td>A0118150101</td>\n",
              "      <td>70002017</td>\n",
              "      <td>51</td>\n",
              "      <td>2018</td>\n",
              "      <td>15.3952</td>\n",
              "      <td>Atliq Exclusive</td>\n",
              "      <td>Brick &amp; Mortar</td>\n",
              "      <td>Direct</td>\n",
              "      <td>India</td>\n",
              "    </tr>\n",
              "    <tr>\n",
              "      <th>1</th>\n",
              "      <td>2017-10-01</td>\n",
              "      <td>A0118150101</td>\n",
              "      <td>70002017</td>\n",
              "      <td>54</td>\n",
              "      <td>2018</td>\n",
              "      <td>15.3952</td>\n",
              "      <td>Atliq Exclusive</td>\n",
              "      <td>Brick &amp; Mortar</td>\n",
              "      <td>Direct</td>\n",
              "      <td>India</td>\n",
              "    </tr>\n",
              "    <tr>\n",
              "      <th>2</th>\n",
              "      <td>2017-11-01</td>\n",
              "      <td>A0118150101</td>\n",
              "      <td>70002017</td>\n",
              "      <td>30</td>\n",
              "      <td>2018</td>\n",
              "      <td>15.3952</td>\n",
              "      <td>Atliq Exclusive</td>\n",
              "      <td>Brick &amp; Mortar</td>\n",
              "      <td>Direct</td>\n",
              "      <td>India</td>\n",
              "    </tr>\n",
              "    <tr>\n",
              "      <th>3</th>\n",
              "      <td>2018-01-01</td>\n",
              "      <td>A0118150101</td>\n",
              "      <td>70002017</td>\n",
              "      <td>14</td>\n",
              "      <td>2018</td>\n",
              "      <td>15.3952</td>\n",
              "      <td>Atliq Exclusive</td>\n",
              "      <td>Brick &amp; Mortar</td>\n",
              "      <td>Direct</td>\n",
              "      <td>India</td>\n",
              "    </tr>\n",
              "    <tr>\n",
              "      <th>4</th>\n",
              "      <td>2018-02-01</td>\n",
              "      <td>A0118150101</td>\n",
              "      <td>70002017</td>\n",
              "      <td>62</td>\n",
              "      <td>2018</td>\n",
              "      <td>15.3952</td>\n",
              "      <td>Atliq Exclusive</td>\n",
              "      <td>Brick &amp; Mortar</td>\n",
              "      <td>Direct</td>\n",
              "      <td>India</td>\n",
              "    </tr>\n",
              "  </tbody>\n",
              "</table>\n",
              "</div>\n",
              "      <button class=\"colab-df-convert\" onclick=\"convertToInteractive('df-82b4bb82-7cb9-4dae-a228-90ad7aa7b566')\"\n",
              "              title=\"Convert this dataframe to an interactive table.\"\n",
              "              style=\"display:none;\">\n",
              "        \n",
              "  <svg xmlns=\"http://www.w3.org/2000/svg\" height=\"24px\"viewBox=\"0 0 24 24\"\n",
              "       width=\"24px\">\n",
              "    <path d=\"M0 0h24v24H0V0z\" fill=\"none\"/>\n",
              "    <path d=\"M18.56 5.44l.94 2.06.94-2.06 2.06-.94-2.06-.94-.94-2.06-.94 2.06-2.06.94zm-11 1L8.5 8.5l.94-2.06 2.06-.94-2.06-.94L8.5 2.5l-.94 2.06-2.06.94zm10 10l.94 2.06.94-2.06 2.06-.94-2.06-.94-.94-2.06-.94 2.06-2.06.94z\"/><path d=\"M17.41 7.96l-1.37-1.37c-.4-.4-.92-.59-1.43-.59-.52 0-1.04.2-1.43.59L10.3 9.45l-7.72 7.72c-.78.78-.78 2.05 0 2.83L4 21.41c.39.39.9.59 1.41.59.51 0 1.02-.2 1.41-.59l7.78-7.78 2.81-2.81c.8-.78.8-2.07 0-2.86zM5.41 20L4 18.59l7.72-7.72 1.47 1.35L5.41 20z\"/>\n",
              "  </svg>\n",
              "      </button>\n",
              "      \n",
              "  <style>\n",
              "    .colab-df-container {\n",
              "      display:flex;\n",
              "      flex-wrap:wrap;\n",
              "      gap: 12px;\n",
              "    }\n",
              "\n",
              "    .colab-df-convert {\n",
              "      background-color: #E8F0FE;\n",
              "      border: none;\n",
              "      border-radius: 50%;\n",
              "      cursor: pointer;\n",
              "      display: none;\n",
              "      fill: #1967D2;\n",
              "      height: 32px;\n",
              "      padding: 0 0 0 0;\n",
              "      width: 32px;\n",
              "    }\n",
              "\n",
              "    .colab-df-convert:hover {\n",
              "      background-color: #E2EBFA;\n",
              "      box-shadow: 0px 1px 2px rgba(60, 64, 67, 0.3), 0px 1px 3px 1px rgba(60, 64, 67, 0.15);\n",
              "      fill: #174EA6;\n",
              "    }\n",
              "\n",
              "    [theme=dark] .colab-df-convert {\n",
              "      background-color: #3B4455;\n",
              "      fill: #D2E3FC;\n",
              "    }\n",
              "\n",
              "    [theme=dark] .colab-df-convert:hover {\n",
              "      background-color: #434B5C;\n",
              "      box-shadow: 0px 1px 3px 1px rgba(0, 0, 0, 0.15);\n",
              "      filter: drop-shadow(0px 1px 2px rgba(0, 0, 0, 0.3));\n",
              "      fill: #FFFFFF;\n",
              "    }\n",
              "  </style>\n",
              "\n",
              "      <script>\n",
              "        const buttonEl =\n",
              "          document.querySelector('#df-82b4bb82-7cb9-4dae-a228-90ad7aa7b566 button.colab-df-convert');\n",
              "        buttonEl.style.display =\n",
              "          google.colab.kernel.accessAllowed ? 'block' : 'none';\n",
              "\n",
              "        async function convertToInteractive(key) {\n",
              "          const element = document.querySelector('#df-82b4bb82-7cb9-4dae-a228-90ad7aa7b566');\n",
              "          const dataTable =\n",
              "            await google.colab.kernel.invokeFunction('convertToInteractive',\n",
              "                                                     [key], {});\n",
              "          if (!dataTable) return;\n",
              "\n",
              "          const docLinkHtml = 'Like what you see? Visit the ' +\n",
              "            '<a target=\"_blank\" href=https://colab.research.google.com/notebooks/data_table.ipynb>data table notebook</a>'\n",
              "            + ' to learn more about interactive tables.';\n",
              "          element.innerHTML = '';\n",
              "          dataTable['output_type'] = 'display_data';\n",
              "          await google.colab.output.renderOutput(dataTable, element);\n",
              "          const docLink = document.createElement('div');\n",
              "          docLink.innerHTML = docLinkHtml;\n",
              "          element.appendChild(docLink);\n",
              "        }\n",
              "      </script>\n",
              "    </div>\n",
              "  </div>\n",
              "  "
            ]
          },
          "metadata": {},
          "execution_count": 13
        }
      ],
      "source": [
        "#JOIN with customer table\n",
        "df = df.merge(customer[['customer_code', 'customer', 'platform', 'channel', 'market']], on = ['customer_code'])\n",
        "df.head()"
      ]
    },
    {
      "cell_type": "code",
      "execution_count": null,
      "metadata": {
        "colab": {
          "base_uri": "https://localhost:8080/",
          "height": 206
        },
        "id": "ERfSXpn8NnYw",
        "outputId": "5d7289de-8917-450a-ee1e-5efb6732a57f"
      },
      "outputs": [
        {
          "output_type": "execute_result",
          "data": {
            "text/plain": [
              "         date product_code  customer_code  sold_quantity  fiscal_year  \\\n",
              "0  2017-09-01  A0118150101       70002017             51         2018   \n",
              "1  2017-10-01  A0118150101       70002017             54         2018   \n",
              "2  2017-11-01  A0118150101       70002017             30         2018   \n",
              "3  2018-01-01  A0118150101       70002017             14         2018   \n",
              "4  2018-02-01  A0118150101       70002017             62         2018   \n",
              "\n",
              "   gross_price         customer        platform channel market  discount  \n",
              "0      15.3952  Atliq Exclusive  Brick & Mortar  Direct  India    0.0824  \n",
              "1      15.3952  Atliq Exclusive  Brick & Mortar  Direct  India    0.0824  \n",
              "2      15.3952  Atliq Exclusive  Brick & Mortar  Direct  India    0.0824  \n",
              "3      15.3952  Atliq Exclusive  Brick & Mortar  Direct  India    0.0824  \n",
              "4      15.3952  Atliq Exclusive  Brick & Mortar  Direct  India    0.0824  "
            ],
            "text/html": [
              "\n",
              "  <div id=\"df-5e5bb859-6c12-4725-acc2-7c39cb7bdfa0\">\n",
              "    <div class=\"colab-df-container\">\n",
              "      <div>\n",
              "<style scoped>\n",
              "    .dataframe tbody tr th:only-of-type {\n",
              "        vertical-align: middle;\n",
              "    }\n",
              "\n",
              "    .dataframe tbody tr th {\n",
              "        vertical-align: top;\n",
              "    }\n",
              "\n",
              "    .dataframe thead th {\n",
              "        text-align: right;\n",
              "    }\n",
              "</style>\n",
              "<table border=\"1\" class=\"dataframe\">\n",
              "  <thead>\n",
              "    <tr style=\"text-align: right;\">\n",
              "      <th></th>\n",
              "      <th>date</th>\n",
              "      <th>product_code</th>\n",
              "      <th>customer_code</th>\n",
              "      <th>sold_quantity</th>\n",
              "      <th>fiscal_year</th>\n",
              "      <th>gross_price</th>\n",
              "      <th>customer</th>\n",
              "      <th>platform</th>\n",
              "      <th>channel</th>\n",
              "      <th>market</th>\n",
              "      <th>discount</th>\n",
              "    </tr>\n",
              "  </thead>\n",
              "  <tbody>\n",
              "    <tr>\n",
              "      <th>0</th>\n",
              "      <td>2017-09-01</td>\n",
              "      <td>A0118150101</td>\n",
              "      <td>70002017</td>\n",
              "      <td>51</td>\n",
              "      <td>2018</td>\n",
              "      <td>15.3952</td>\n",
              "      <td>Atliq Exclusive</td>\n",
              "      <td>Brick &amp; Mortar</td>\n",
              "      <td>Direct</td>\n",
              "      <td>India</td>\n",
              "      <td>0.0824</td>\n",
              "    </tr>\n",
              "    <tr>\n",
              "      <th>1</th>\n",
              "      <td>2017-10-01</td>\n",
              "      <td>A0118150101</td>\n",
              "      <td>70002017</td>\n",
              "      <td>54</td>\n",
              "      <td>2018</td>\n",
              "      <td>15.3952</td>\n",
              "      <td>Atliq Exclusive</td>\n",
              "      <td>Brick &amp; Mortar</td>\n",
              "      <td>Direct</td>\n",
              "      <td>India</td>\n",
              "      <td>0.0824</td>\n",
              "    </tr>\n",
              "    <tr>\n",
              "      <th>2</th>\n",
              "      <td>2017-11-01</td>\n",
              "      <td>A0118150101</td>\n",
              "      <td>70002017</td>\n",
              "      <td>30</td>\n",
              "      <td>2018</td>\n",
              "      <td>15.3952</td>\n",
              "      <td>Atliq Exclusive</td>\n",
              "      <td>Brick &amp; Mortar</td>\n",
              "      <td>Direct</td>\n",
              "      <td>India</td>\n",
              "      <td>0.0824</td>\n",
              "    </tr>\n",
              "    <tr>\n",
              "      <th>3</th>\n",
              "      <td>2018-01-01</td>\n",
              "      <td>A0118150101</td>\n",
              "      <td>70002017</td>\n",
              "      <td>14</td>\n",
              "      <td>2018</td>\n",
              "      <td>15.3952</td>\n",
              "      <td>Atliq Exclusive</td>\n",
              "      <td>Brick &amp; Mortar</td>\n",
              "      <td>Direct</td>\n",
              "      <td>India</td>\n",
              "      <td>0.0824</td>\n",
              "    </tr>\n",
              "    <tr>\n",
              "      <th>4</th>\n",
              "      <td>2018-02-01</td>\n",
              "      <td>A0118150101</td>\n",
              "      <td>70002017</td>\n",
              "      <td>62</td>\n",
              "      <td>2018</td>\n",
              "      <td>15.3952</td>\n",
              "      <td>Atliq Exclusive</td>\n",
              "      <td>Brick &amp; Mortar</td>\n",
              "      <td>Direct</td>\n",
              "      <td>India</td>\n",
              "      <td>0.0824</td>\n",
              "    </tr>\n",
              "  </tbody>\n",
              "</table>\n",
              "</div>\n",
              "      <button class=\"colab-df-convert\" onclick=\"convertToInteractive('df-5e5bb859-6c12-4725-acc2-7c39cb7bdfa0')\"\n",
              "              title=\"Convert this dataframe to an interactive table.\"\n",
              "              style=\"display:none;\">\n",
              "        \n",
              "  <svg xmlns=\"http://www.w3.org/2000/svg\" height=\"24px\"viewBox=\"0 0 24 24\"\n",
              "       width=\"24px\">\n",
              "    <path d=\"M0 0h24v24H0V0z\" fill=\"none\"/>\n",
              "    <path d=\"M18.56 5.44l.94 2.06.94-2.06 2.06-.94-2.06-.94-.94-2.06-.94 2.06-2.06.94zm-11 1L8.5 8.5l.94-2.06 2.06-.94-2.06-.94L8.5 2.5l-.94 2.06-2.06.94zm10 10l.94 2.06.94-2.06 2.06-.94-2.06-.94-.94-2.06-.94 2.06-2.06.94z\"/><path d=\"M17.41 7.96l-1.37-1.37c-.4-.4-.92-.59-1.43-.59-.52 0-1.04.2-1.43.59L10.3 9.45l-7.72 7.72c-.78.78-.78 2.05 0 2.83L4 21.41c.39.39.9.59 1.41.59.51 0 1.02-.2 1.41-.59l7.78-7.78 2.81-2.81c.8-.78.8-2.07 0-2.86zM5.41 20L4 18.59l7.72-7.72 1.47 1.35L5.41 20z\"/>\n",
              "  </svg>\n",
              "      </button>\n",
              "      \n",
              "  <style>\n",
              "    .colab-df-container {\n",
              "      display:flex;\n",
              "      flex-wrap:wrap;\n",
              "      gap: 12px;\n",
              "    }\n",
              "\n",
              "    .colab-df-convert {\n",
              "      background-color: #E8F0FE;\n",
              "      border: none;\n",
              "      border-radius: 50%;\n",
              "      cursor: pointer;\n",
              "      display: none;\n",
              "      fill: #1967D2;\n",
              "      height: 32px;\n",
              "      padding: 0 0 0 0;\n",
              "      width: 32px;\n",
              "    }\n",
              "\n",
              "    .colab-df-convert:hover {\n",
              "      background-color: #E2EBFA;\n",
              "      box-shadow: 0px 1px 2px rgba(60, 64, 67, 0.3), 0px 1px 3px 1px rgba(60, 64, 67, 0.15);\n",
              "      fill: #174EA6;\n",
              "    }\n",
              "\n",
              "    [theme=dark] .colab-df-convert {\n",
              "      background-color: #3B4455;\n",
              "      fill: #D2E3FC;\n",
              "    }\n",
              "\n",
              "    [theme=dark] .colab-df-convert:hover {\n",
              "      background-color: #434B5C;\n",
              "      box-shadow: 0px 1px 3px 1px rgba(0, 0, 0, 0.15);\n",
              "      filter: drop-shadow(0px 1px 2px rgba(0, 0, 0, 0.3));\n",
              "      fill: #FFFFFF;\n",
              "    }\n",
              "  </style>\n",
              "\n",
              "      <script>\n",
              "        const buttonEl =\n",
              "          document.querySelector('#df-5e5bb859-6c12-4725-acc2-7c39cb7bdfa0 button.colab-df-convert');\n",
              "        buttonEl.style.display =\n",
              "          google.colab.kernel.accessAllowed ? 'block' : 'none';\n",
              "\n",
              "        async function convertToInteractive(key) {\n",
              "          const element = document.querySelector('#df-5e5bb859-6c12-4725-acc2-7c39cb7bdfa0');\n",
              "          const dataTable =\n",
              "            await google.colab.kernel.invokeFunction('convertToInteractive',\n",
              "                                                     [key], {});\n",
              "          if (!dataTable) return;\n",
              "\n",
              "          const docLinkHtml = 'Like what you see? Visit the ' +\n",
              "            '<a target=\"_blank\" href=https://colab.research.google.com/notebooks/data_table.ipynb>data table notebook</a>'\n",
              "            + ' to learn more about interactive tables.';\n",
              "          element.innerHTML = '';\n",
              "          dataTable['output_type'] = 'display_data';\n",
              "          await google.colab.output.renderOutput(dataTable, element);\n",
              "          const docLink = document.createElement('div');\n",
              "          docLink.innerHTML = docLinkHtml;\n",
              "          element.appendChild(docLink);\n",
              "        }\n",
              "      </script>\n",
              "    </div>\n",
              "  </div>\n",
              "  "
            ]
          },
          "metadata": {},
          "execution_count": 14
        }
      ],
      "source": [
        "#JOIN with discount table\n",
        "df = df.merge(discount[['customer_code', 'fiscal_year', 'pre_invoice_discount_pct']], on = ['customer_code', 'fiscal_year'])\n",
        "df.rename(columns = {'pre_invoice_discount_pct':'discount'},inplace=True)\n",
        "df.head()"
      ]
    },
    {
      "cell_type": "code",
      "execution_count": null,
      "metadata": {
        "colab": {
          "base_uri": "https://localhost:8080/",
          "height": 206
        },
        "id": "w0uBUEnMOlGz",
        "outputId": "d54d456e-fa78-42d0-9fa2-7096d74d9108"
      },
      "outputs": [
        {
          "output_type": "execute_result",
          "data": {
            "text/plain": [
              "         date product_code  customer_code  sold_quantity  fiscal_year  \\\n",
              "0  2017-09-01  A0118150101       70002017             51         2018   \n",
              "1  2017-10-01  A0118150101       70002017             54         2018   \n",
              "2  2017-11-01  A0118150101       70002017             30         2018   \n",
              "3  2018-01-01  A0118150101       70002017             14         2018   \n",
              "4  2018-02-01  A0118150101       70002017             62         2018   \n",
              "\n",
              "   gross_price         customer        platform channel market  discount  \\\n",
              "0      15.3952  Atliq Exclusive  Brick & Mortar  Direct  India    0.0824   \n",
              "1      15.3952  Atliq Exclusive  Brick & Mortar  Direct  India    0.0824   \n",
              "2      15.3952  Atliq Exclusive  Brick & Mortar  Direct  India    0.0824   \n",
              "3      15.3952  Atliq Exclusive  Brick & Mortar  Direct  India    0.0824   \n",
              "4      15.3952  Atliq Exclusive  Brick & Mortar  Direct  India    0.0824   \n",
              "\n",
              "    cost  \n",
              "0  4.619  \n",
              "1  4.619  \n",
              "2  4.619  \n",
              "3  4.619  \n",
              "4  4.619  "
            ],
            "text/html": [
              "\n",
              "  <div id=\"df-9ee340e4-d254-4330-a7f7-fa2003de197f\">\n",
              "    <div class=\"colab-df-container\">\n",
              "      <div>\n",
              "<style scoped>\n",
              "    .dataframe tbody tr th:only-of-type {\n",
              "        vertical-align: middle;\n",
              "    }\n",
              "\n",
              "    .dataframe tbody tr th {\n",
              "        vertical-align: top;\n",
              "    }\n",
              "\n",
              "    .dataframe thead th {\n",
              "        text-align: right;\n",
              "    }\n",
              "</style>\n",
              "<table border=\"1\" class=\"dataframe\">\n",
              "  <thead>\n",
              "    <tr style=\"text-align: right;\">\n",
              "      <th></th>\n",
              "      <th>date</th>\n",
              "      <th>product_code</th>\n",
              "      <th>customer_code</th>\n",
              "      <th>sold_quantity</th>\n",
              "      <th>fiscal_year</th>\n",
              "      <th>gross_price</th>\n",
              "      <th>customer</th>\n",
              "      <th>platform</th>\n",
              "      <th>channel</th>\n",
              "      <th>market</th>\n",
              "      <th>discount</th>\n",
              "      <th>cost</th>\n",
              "    </tr>\n",
              "  </thead>\n",
              "  <tbody>\n",
              "    <tr>\n",
              "      <th>0</th>\n",
              "      <td>2017-09-01</td>\n",
              "      <td>A0118150101</td>\n",
              "      <td>70002017</td>\n",
              "      <td>51</td>\n",
              "      <td>2018</td>\n",
              "      <td>15.3952</td>\n",
              "      <td>Atliq Exclusive</td>\n",
              "      <td>Brick &amp; Mortar</td>\n",
              "      <td>Direct</td>\n",
              "      <td>India</td>\n",
              "      <td>0.0824</td>\n",
              "      <td>4.619</td>\n",
              "    </tr>\n",
              "    <tr>\n",
              "      <th>1</th>\n",
              "      <td>2017-10-01</td>\n",
              "      <td>A0118150101</td>\n",
              "      <td>70002017</td>\n",
              "      <td>54</td>\n",
              "      <td>2018</td>\n",
              "      <td>15.3952</td>\n",
              "      <td>Atliq Exclusive</td>\n",
              "      <td>Brick &amp; Mortar</td>\n",
              "      <td>Direct</td>\n",
              "      <td>India</td>\n",
              "      <td>0.0824</td>\n",
              "      <td>4.619</td>\n",
              "    </tr>\n",
              "    <tr>\n",
              "      <th>2</th>\n",
              "      <td>2017-11-01</td>\n",
              "      <td>A0118150101</td>\n",
              "      <td>70002017</td>\n",
              "      <td>30</td>\n",
              "      <td>2018</td>\n",
              "      <td>15.3952</td>\n",
              "      <td>Atliq Exclusive</td>\n",
              "      <td>Brick &amp; Mortar</td>\n",
              "      <td>Direct</td>\n",
              "      <td>India</td>\n",
              "      <td>0.0824</td>\n",
              "      <td>4.619</td>\n",
              "    </tr>\n",
              "    <tr>\n",
              "      <th>3</th>\n",
              "      <td>2018-01-01</td>\n",
              "      <td>A0118150101</td>\n",
              "      <td>70002017</td>\n",
              "      <td>14</td>\n",
              "      <td>2018</td>\n",
              "      <td>15.3952</td>\n",
              "      <td>Atliq Exclusive</td>\n",
              "      <td>Brick &amp; Mortar</td>\n",
              "      <td>Direct</td>\n",
              "      <td>India</td>\n",
              "      <td>0.0824</td>\n",
              "      <td>4.619</td>\n",
              "    </tr>\n",
              "    <tr>\n",
              "      <th>4</th>\n",
              "      <td>2018-02-01</td>\n",
              "      <td>A0118150101</td>\n",
              "      <td>70002017</td>\n",
              "      <td>62</td>\n",
              "      <td>2018</td>\n",
              "      <td>15.3952</td>\n",
              "      <td>Atliq Exclusive</td>\n",
              "      <td>Brick &amp; Mortar</td>\n",
              "      <td>Direct</td>\n",
              "      <td>India</td>\n",
              "      <td>0.0824</td>\n",
              "      <td>4.619</td>\n",
              "    </tr>\n",
              "  </tbody>\n",
              "</table>\n",
              "</div>\n",
              "      <button class=\"colab-df-convert\" onclick=\"convertToInteractive('df-9ee340e4-d254-4330-a7f7-fa2003de197f')\"\n",
              "              title=\"Convert this dataframe to an interactive table.\"\n",
              "              style=\"display:none;\">\n",
              "        \n",
              "  <svg xmlns=\"http://www.w3.org/2000/svg\" height=\"24px\"viewBox=\"0 0 24 24\"\n",
              "       width=\"24px\">\n",
              "    <path d=\"M0 0h24v24H0V0z\" fill=\"none\"/>\n",
              "    <path d=\"M18.56 5.44l.94 2.06.94-2.06 2.06-.94-2.06-.94-.94-2.06-.94 2.06-2.06.94zm-11 1L8.5 8.5l.94-2.06 2.06-.94-2.06-.94L8.5 2.5l-.94 2.06-2.06.94zm10 10l.94 2.06.94-2.06 2.06-.94-2.06-.94-.94-2.06-.94 2.06-2.06.94z\"/><path d=\"M17.41 7.96l-1.37-1.37c-.4-.4-.92-.59-1.43-.59-.52 0-1.04.2-1.43.59L10.3 9.45l-7.72 7.72c-.78.78-.78 2.05 0 2.83L4 21.41c.39.39.9.59 1.41.59.51 0 1.02-.2 1.41-.59l7.78-7.78 2.81-2.81c.8-.78.8-2.07 0-2.86zM5.41 20L4 18.59l7.72-7.72 1.47 1.35L5.41 20z\"/>\n",
              "  </svg>\n",
              "      </button>\n",
              "      \n",
              "  <style>\n",
              "    .colab-df-container {\n",
              "      display:flex;\n",
              "      flex-wrap:wrap;\n",
              "      gap: 12px;\n",
              "    }\n",
              "\n",
              "    .colab-df-convert {\n",
              "      background-color: #E8F0FE;\n",
              "      border: none;\n",
              "      border-radius: 50%;\n",
              "      cursor: pointer;\n",
              "      display: none;\n",
              "      fill: #1967D2;\n",
              "      height: 32px;\n",
              "      padding: 0 0 0 0;\n",
              "      width: 32px;\n",
              "    }\n",
              "\n",
              "    .colab-df-convert:hover {\n",
              "      background-color: #E2EBFA;\n",
              "      box-shadow: 0px 1px 2px rgba(60, 64, 67, 0.3), 0px 1px 3px 1px rgba(60, 64, 67, 0.15);\n",
              "      fill: #174EA6;\n",
              "    }\n",
              "\n",
              "    [theme=dark] .colab-df-convert {\n",
              "      background-color: #3B4455;\n",
              "      fill: #D2E3FC;\n",
              "    }\n",
              "\n",
              "    [theme=dark] .colab-df-convert:hover {\n",
              "      background-color: #434B5C;\n",
              "      box-shadow: 0px 1px 3px 1px rgba(0, 0, 0, 0.15);\n",
              "      filter: drop-shadow(0px 1px 2px rgba(0, 0, 0, 0.3));\n",
              "      fill: #FFFFFF;\n",
              "    }\n",
              "  </style>\n",
              "\n",
              "      <script>\n",
              "        const buttonEl =\n",
              "          document.querySelector('#df-9ee340e4-d254-4330-a7f7-fa2003de197f button.colab-df-convert');\n",
              "        buttonEl.style.display =\n",
              "          google.colab.kernel.accessAllowed ? 'block' : 'none';\n",
              "\n",
              "        async function convertToInteractive(key) {\n",
              "          const element = document.querySelector('#df-9ee340e4-d254-4330-a7f7-fa2003de197f');\n",
              "          const dataTable =\n",
              "            await google.colab.kernel.invokeFunction('convertToInteractive',\n",
              "                                                     [key], {});\n",
              "          if (!dataTable) return;\n",
              "\n",
              "          const docLinkHtml = 'Like what you see? Visit the ' +\n",
              "            '<a target=\"_blank\" href=https://colab.research.google.com/notebooks/data_table.ipynb>data table notebook</a>'\n",
              "            + ' to learn more about interactive tables.';\n",
              "          element.innerHTML = '';\n",
              "          dataTable['output_type'] = 'display_data';\n",
              "          await google.colab.output.renderOutput(dataTable, element);\n",
              "          const docLink = document.createElement('div');\n",
              "          docLink.innerHTML = docLinkHtml;\n",
              "          element.appendChild(docLink);\n",
              "        }\n",
              "      </script>\n",
              "    </div>\n",
              "  </div>\n",
              "  "
            ]
          },
          "metadata": {},
          "execution_count": 15
        }
      ],
      "source": [
        "#JOIN with cost table\n",
        "cost.rename(columns={'cost_year':'fiscal_year'},inplace=True)\n",
        "df = df.merge(cost[['product_code', 'fiscal_year', 'manufacturing_cost']], on = ['product_code','fiscal_year'])\n",
        "df.rename(columns={'manufacturing_cost':'cost'},inplace=True)\n",
        "df.head()"
      ]
    },
    {
      "cell_type": "code",
      "execution_count": null,
      "metadata": {
        "colab": {
          "base_uri": "https://localhost:8080/",
          "height": 877
        },
        "id": "lcCLFhYKP8Xn",
        "outputId": "1ef47695-c78e-4a60-8b9a-885f7c8e5c44"
      },
      "outputs": [
        {
          "output_type": "execute_result",
          "data": {
            "text/plain": [
              "         date product_code  customer_code  sold_quantity  fiscal_year  \\\n",
              "0  2017-09-01  A0118150101       70002017             51         2018   \n",
              "1  2017-10-01  A0118150101       70002017             54         2018   \n",
              "2  2017-11-01  A0118150101       70002017             30         2018   \n",
              "3  2018-01-01  A0118150101       70002017             14         2018   \n",
              "4  2018-02-01  A0118150101       70002017             62         2018   \n",
              "\n",
              "   gross_price         customer        platform channel market  discount  \\\n",
              "0      15.3952  Atliq Exclusive  Brick & Mortar  Direct  India    0.0824   \n",
              "1      15.3952  Atliq Exclusive  Brick & Mortar  Direct  India    0.0824   \n",
              "2      15.3952  Atliq Exclusive  Brick & Mortar  Direct  India    0.0824   \n",
              "3      15.3952  Atliq Exclusive  Brick & Mortar  Direct  India    0.0824   \n",
              "4      15.3952  Atliq Exclusive  Brick & Mortar  Direct  India    0.0824   \n",
              "\n",
              "    cost division      segment      category  \\\n",
              "0  4.619    P & A  Peripherals  Internal HDD   \n",
              "1  4.619    P & A  Peripherals  Internal HDD   \n",
              "2  4.619    P & A  Peripherals  Internal HDD   \n",
              "3  4.619    P & A  Peripherals  Internal HDD   \n",
              "4  4.619    P & A  Peripherals  Internal HDD   \n",
              "\n",
              "                                             product   variant  \n",
              "0  AQ Dracula HDD – 3.5 Inch SATA 6 Gb/s 5400 RPM...  Standard  \n",
              "1  AQ Dracula HDD – 3.5 Inch SATA 6 Gb/s 5400 RPM...  Standard  \n",
              "2  AQ Dracula HDD – 3.5 Inch SATA 6 Gb/s 5400 RPM...  Standard  \n",
              "3  AQ Dracula HDD – 3.5 Inch SATA 6 Gb/s 5400 RPM...  Standard  \n",
              "4  AQ Dracula HDD – 3.5 Inch SATA 6 Gb/s 5400 RPM...  Standard  "
            ],
            "text/html": [
              "\n",
              "  <div id=\"df-786a3298-6d71-4c8c-93ca-eca2ad34d0aa\">\n",
              "    <div class=\"colab-df-container\">\n",
              "      <div>\n",
              "<style scoped>\n",
              "    .dataframe tbody tr th:only-of-type {\n",
              "        vertical-align: middle;\n",
              "    }\n",
              "\n",
              "    .dataframe tbody tr th {\n",
              "        vertical-align: top;\n",
              "    }\n",
              "\n",
              "    .dataframe thead th {\n",
              "        text-align: right;\n",
              "    }\n",
              "</style>\n",
              "<table border=\"1\" class=\"dataframe\">\n",
              "  <thead>\n",
              "    <tr style=\"text-align: right;\">\n",
              "      <th></th>\n",
              "      <th>date</th>\n",
              "      <th>product_code</th>\n",
              "      <th>customer_code</th>\n",
              "      <th>sold_quantity</th>\n",
              "      <th>fiscal_year</th>\n",
              "      <th>gross_price</th>\n",
              "      <th>customer</th>\n",
              "      <th>platform</th>\n",
              "      <th>channel</th>\n",
              "      <th>market</th>\n",
              "      <th>discount</th>\n",
              "      <th>cost</th>\n",
              "      <th>division</th>\n",
              "      <th>segment</th>\n",
              "      <th>category</th>\n",
              "      <th>product</th>\n",
              "      <th>variant</th>\n",
              "    </tr>\n",
              "  </thead>\n",
              "  <tbody>\n",
              "    <tr>\n",
              "      <th>0</th>\n",
              "      <td>2017-09-01</td>\n",
              "      <td>A0118150101</td>\n",
              "      <td>70002017</td>\n",
              "      <td>51</td>\n",
              "      <td>2018</td>\n",
              "      <td>15.3952</td>\n",
              "      <td>Atliq Exclusive</td>\n",
              "      <td>Brick &amp; Mortar</td>\n",
              "      <td>Direct</td>\n",
              "      <td>India</td>\n",
              "      <td>0.0824</td>\n",
              "      <td>4.619</td>\n",
              "      <td>P &amp; A</td>\n",
              "      <td>Peripherals</td>\n",
              "      <td>Internal HDD</td>\n",
              "      <td>AQ Dracula HDD – 3.5 Inch SATA 6 Gb/s 5400 RPM...</td>\n",
              "      <td>Standard</td>\n",
              "    </tr>\n",
              "    <tr>\n",
              "      <th>1</th>\n",
              "      <td>2017-10-01</td>\n",
              "      <td>A0118150101</td>\n",
              "      <td>70002017</td>\n",
              "      <td>54</td>\n",
              "      <td>2018</td>\n",
              "      <td>15.3952</td>\n",
              "      <td>Atliq Exclusive</td>\n",
              "      <td>Brick &amp; Mortar</td>\n",
              "      <td>Direct</td>\n",
              "      <td>India</td>\n",
              "      <td>0.0824</td>\n",
              "      <td>4.619</td>\n",
              "      <td>P &amp; A</td>\n",
              "      <td>Peripherals</td>\n",
              "      <td>Internal HDD</td>\n",
              "      <td>AQ Dracula HDD – 3.5 Inch SATA 6 Gb/s 5400 RPM...</td>\n",
              "      <td>Standard</td>\n",
              "    </tr>\n",
              "    <tr>\n",
              "      <th>2</th>\n",
              "      <td>2017-11-01</td>\n",
              "      <td>A0118150101</td>\n",
              "      <td>70002017</td>\n",
              "      <td>30</td>\n",
              "      <td>2018</td>\n",
              "      <td>15.3952</td>\n",
              "      <td>Atliq Exclusive</td>\n",
              "      <td>Brick &amp; Mortar</td>\n",
              "      <td>Direct</td>\n",
              "      <td>India</td>\n",
              "      <td>0.0824</td>\n",
              "      <td>4.619</td>\n",
              "      <td>P &amp; A</td>\n",
              "      <td>Peripherals</td>\n",
              "      <td>Internal HDD</td>\n",
              "      <td>AQ Dracula HDD – 3.5 Inch SATA 6 Gb/s 5400 RPM...</td>\n",
              "      <td>Standard</td>\n",
              "    </tr>\n",
              "    <tr>\n",
              "      <th>3</th>\n",
              "      <td>2018-01-01</td>\n",
              "      <td>A0118150101</td>\n",
              "      <td>70002017</td>\n",
              "      <td>14</td>\n",
              "      <td>2018</td>\n",
              "      <td>15.3952</td>\n",
              "      <td>Atliq Exclusive</td>\n",
              "      <td>Brick &amp; Mortar</td>\n",
              "      <td>Direct</td>\n",
              "      <td>India</td>\n",
              "      <td>0.0824</td>\n",
              "      <td>4.619</td>\n",
              "      <td>P &amp; A</td>\n",
              "      <td>Peripherals</td>\n",
              "      <td>Internal HDD</td>\n",
              "      <td>AQ Dracula HDD – 3.5 Inch SATA 6 Gb/s 5400 RPM...</td>\n",
              "      <td>Standard</td>\n",
              "    </tr>\n",
              "    <tr>\n",
              "      <th>4</th>\n",
              "      <td>2018-02-01</td>\n",
              "      <td>A0118150101</td>\n",
              "      <td>70002017</td>\n",
              "      <td>62</td>\n",
              "      <td>2018</td>\n",
              "      <td>15.3952</td>\n",
              "      <td>Atliq Exclusive</td>\n",
              "      <td>Brick &amp; Mortar</td>\n",
              "      <td>Direct</td>\n",
              "      <td>India</td>\n",
              "      <td>0.0824</td>\n",
              "      <td>4.619</td>\n",
              "      <td>P &amp; A</td>\n",
              "      <td>Peripherals</td>\n",
              "      <td>Internal HDD</td>\n",
              "      <td>AQ Dracula HDD – 3.5 Inch SATA 6 Gb/s 5400 RPM...</td>\n",
              "      <td>Standard</td>\n",
              "    </tr>\n",
              "  </tbody>\n",
              "</table>\n",
              "</div>\n",
              "      <button class=\"colab-df-convert\" onclick=\"convertToInteractive('df-786a3298-6d71-4c8c-93ca-eca2ad34d0aa')\"\n",
              "              title=\"Convert this dataframe to an interactive table.\"\n",
              "              style=\"display:none;\">\n",
              "        \n",
              "  <svg xmlns=\"http://www.w3.org/2000/svg\" height=\"24px\"viewBox=\"0 0 24 24\"\n",
              "       width=\"24px\">\n",
              "    <path d=\"M0 0h24v24H0V0z\" fill=\"none\"/>\n",
              "    <path d=\"M18.56 5.44l.94 2.06.94-2.06 2.06-.94-2.06-.94-.94-2.06-.94 2.06-2.06.94zm-11 1L8.5 8.5l.94-2.06 2.06-.94-2.06-.94L8.5 2.5l-.94 2.06-2.06.94zm10 10l.94 2.06.94-2.06 2.06-.94-2.06-.94-.94-2.06-.94 2.06-2.06.94z\"/><path d=\"M17.41 7.96l-1.37-1.37c-.4-.4-.92-.59-1.43-.59-.52 0-1.04.2-1.43.59L10.3 9.45l-7.72 7.72c-.78.78-.78 2.05 0 2.83L4 21.41c.39.39.9.59 1.41.59.51 0 1.02-.2 1.41-.59l7.78-7.78 2.81-2.81c.8-.78.8-2.07 0-2.86zM5.41 20L4 18.59l7.72-7.72 1.47 1.35L5.41 20z\"/>\n",
              "  </svg>\n",
              "      </button>\n",
              "      \n",
              "  <style>\n",
              "    .colab-df-container {\n",
              "      display:flex;\n",
              "      flex-wrap:wrap;\n",
              "      gap: 12px;\n",
              "    }\n",
              "\n",
              "    .colab-df-convert {\n",
              "      background-color: #E8F0FE;\n",
              "      border: none;\n",
              "      border-radius: 50%;\n",
              "      cursor: pointer;\n",
              "      display: none;\n",
              "      fill: #1967D2;\n",
              "      height: 32px;\n",
              "      padding: 0 0 0 0;\n",
              "      width: 32px;\n",
              "    }\n",
              "\n",
              "    .colab-df-convert:hover {\n",
              "      background-color: #E2EBFA;\n",
              "      box-shadow: 0px 1px 2px rgba(60, 64, 67, 0.3), 0px 1px 3px 1px rgba(60, 64, 67, 0.15);\n",
              "      fill: #174EA6;\n",
              "    }\n",
              "\n",
              "    [theme=dark] .colab-df-convert {\n",
              "      background-color: #3B4455;\n",
              "      fill: #D2E3FC;\n",
              "    }\n",
              "\n",
              "    [theme=dark] .colab-df-convert:hover {\n",
              "      background-color: #434B5C;\n",
              "      box-shadow: 0px 1px 3px 1px rgba(0, 0, 0, 0.15);\n",
              "      filter: drop-shadow(0px 1px 2px rgba(0, 0, 0, 0.3));\n",
              "      fill: #FFFFFF;\n",
              "    }\n",
              "  </style>\n",
              "\n",
              "      <script>\n",
              "        const buttonEl =\n",
              "          document.querySelector('#df-786a3298-6d71-4c8c-93ca-eca2ad34d0aa button.colab-df-convert');\n",
              "        buttonEl.style.display =\n",
              "          google.colab.kernel.accessAllowed ? 'block' : 'none';\n",
              "\n",
              "        async function convertToInteractive(key) {\n",
              "          const element = document.querySelector('#df-786a3298-6d71-4c8c-93ca-eca2ad34d0aa');\n",
              "          const dataTable =\n",
              "            await google.colab.kernel.invokeFunction('convertToInteractive',\n",
              "                                                     [key], {});\n",
              "          if (!dataTable) return;\n",
              "\n",
              "          const docLinkHtml = 'Like what you see? Visit the ' +\n",
              "            '<a target=\"_blank\" href=https://colab.research.google.com/notebooks/data_table.ipynb>data table notebook</a>'\n",
              "            + ' to learn more about interactive tables.';\n",
              "          element.innerHTML = '';\n",
              "          dataTable['output_type'] = 'display_data';\n",
              "          await google.colab.output.renderOutput(dataTable, element);\n",
              "          const docLink = document.createElement('div');\n",
              "          docLink.innerHTML = docLinkHtml;\n",
              "          element.appendChild(docLink);\n",
              "        }\n",
              "      </script>\n",
              "    </div>\n",
              "  </div>\n",
              "  "
            ]
          },
          "metadata": {},
          "execution_count": 16
        }
      ],
      "source": [
        "#JOIN with product table\n",
        "df = df.merge(product[['product_code', 'division', 'segment', 'category', 'product','variant']],on='product_code')\n",
        "df.head()"
      ]
    },
    {
      "cell_type": "code",
      "source": [
        "df.isnull().sum()"
      ],
      "metadata": {
        "colab": {
          "base_uri": "https://localhost:8080/"
        },
        "id": "Lj40j6vBSUkt",
        "outputId": "8382c189-8c03-4e87-8d3a-2d49ecf4910f"
      },
      "execution_count": null,
      "outputs": [
        {
          "output_type": "execute_result",
          "data": {
            "text/plain": [
              "date             0\n",
              "product_code     0\n",
              "customer_code    0\n",
              "sold_quantity    0\n",
              "fiscal_year      0\n",
              "gross_price      0\n",
              "customer         0\n",
              "platform         0\n",
              "channel          0\n",
              "market           0\n",
              "discount         0\n",
              "cost             0\n",
              "division         0\n",
              "segment          0\n",
              "category         0\n",
              "product          0\n",
              "variant          0\n",
              "dtype: int64"
            ]
          },
          "metadata": {},
          "execution_count": 17
        }
      ]
    },
    {
      "cell_type": "code",
      "source": [
        "df.duplicated()"
      ],
      "metadata": {
        "colab": {
          "base_uri": "https://localhost:8080/"
        },
        "id": "Fvp9aO22TGtO",
        "outputId": "cd6d8188-ce9c-472b-d156-d2e60ab53773"
      },
      "execution_count": null,
      "outputs": [
        {
          "output_type": "execute_result",
          "data": {
            "text/plain": [
              "0        False\n",
              "1        False\n",
              "2        False\n",
              "3        False\n",
              "4        False\n",
              "         ...  \n",
              "67245    False\n",
              "67246    False\n",
              "67247    False\n",
              "67248    False\n",
              "67249    False\n",
              "Length: 67250, dtype: bool"
            ]
          },
          "metadata": {},
          "execution_count": 18
        }
      ]
    },
    {
      "cell_type": "code",
      "source": [
        "from google.colab import files\n",
        "df.to_csv('dataset.csv') \n",
        "files.download('dataset.csv')"
      ],
      "metadata": {
        "colab": {
          "base_uri": "https://localhost:8080/",
          "height": 17
        },
        "id": "DOUUyyAUSpam",
        "outputId": "e8ef999e-b87a-4959-d98a-4e4709d0dce6"
      },
      "execution_count": null,
      "outputs": [
        {
          "output_type": "display_data",
          "data": {
            "text/plain": [
              "<IPython.core.display.Javascript object>"
            ],
            "application/javascript": [
              "\n",
              "    async function download(id, filename, size) {\n",
              "      if (!google.colab.kernel.accessAllowed) {\n",
              "        return;\n",
              "      }\n",
              "      const div = document.createElement('div');\n",
              "      const label = document.createElement('label');\n",
              "      label.textContent = `Downloading \"${filename}\": `;\n",
              "      div.appendChild(label);\n",
              "      const progress = document.createElement('progress');\n",
              "      progress.max = size;\n",
              "      div.appendChild(progress);\n",
              "      document.body.appendChild(div);\n",
              "\n",
              "      const buffers = [];\n",
              "      let downloaded = 0;\n",
              "\n",
              "      const channel = await google.colab.kernel.comms.open(id);\n",
              "      // Send a message to notify the kernel that we're ready.\n",
              "      channel.send({})\n",
              "\n",
              "      for await (const message of channel.messages) {\n",
              "        // Send a message to notify the kernel that we're ready.\n",
              "        channel.send({})\n",
              "        if (message.buffers) {\n",
              "          for (const buffer of message.buffers) {\n",
              "            buffers.push(buffer);\n",
              "            downloaded += buffer.byteLength;\n",
              "            progress.value = downloaded;\n",
              "          }\n",
              "        }\n",
              "      }\n",
              "      const blob = new Blob(buffers, {type: 'application/binary'});\n",
              "      const a = document.createElement('a');\n",
              "      a.href = window.URL.createObjectURL(blob);\n",
              "      a.download = filename;\n",
              "      div.appendChild(a);\n",
              "      a.click();\n",
              "      div.remove();\n",
              "    }\n",
              "  "
            ]
          },
          "metadata": {}
        },
        {
          "output_type": "display_data",
          "data": {
            "text/plain": [
              "<IPython.core.display.Javascript object>"
            ],
            "application/javascript": [
              "download(\"download_4afd1a8d-fa9e-4575-ad9b-91c986c62d8b\", \"dataset.csv\", 12787622)"
            ]
          },
          "metadata": {}
        }
      ]
    }
  ],
  "metadata": {
    "colab": {
      "provenance": []
    },
    "kernelspec": {
      "display_name": "Python 3",
      "name": "python3"
    },
    "language_info": {
      "name": "python"
    }
  },
  "nbformat": 4,
  "nbformat_minor": 0
}